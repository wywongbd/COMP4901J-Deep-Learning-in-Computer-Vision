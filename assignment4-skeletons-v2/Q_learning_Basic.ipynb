{
 "cells": [
  {
   "cell_type": "markdown",
   "metadata": {},
   "source": [
    "# Basic Q-Learning Algorithms\n",
    "In this exercise we are going be exploring a family of RL algorithms called Q-Learning algorithms. You will begin by implementing a simple lookup-table version of the algorithm, and then a neural-network equivalent using Tensorflow."
   ]
  },
  {
   "cell_type": "code",
   "execution_count": 1,
   "metadata": {
    "collapsed": true
   },
   "outputs": [],
   "source": [
    "import numpy as np\n",
    "import random\n",
    "import matplotlib.pyplot as plt\n",
    "%matplotlib inline"
   ]
  },
  {
   "cell_type": "markdown",
   "metadata": {},
   "source": [
    "## OpenAI Gym Environment\n",
    "For this exercise we will use the [FrozenLake](https://gym.openai.com/envs/FrozenLake-v0) environment from the [OpenAI gym](https://gym.openai.com) as a toy example. For those unfamiliar, the OpenAI gym provides an easy way for people to experiment with their learning agents in an array of provided toy games. The FrozenLake environment consists of a `4 x 4` grid of blocks, each one either being the start block `S`, the goal block `G`, a safe frozen block `F`, or a dangerous hole `H`. The objective is to have an agent learn to navigate from the start to the goal without moving onto a hole. At any given time the agent can choose to move either up, down, left, or right. The catch is that there is a wind which occasionally blows the agent onto a space they didn’t choose. As such, perfect performance every time is impossible, but learning to avoid the holes and reach the goal are certainly still doable. The reward at every step is 0, except for entering the goal, which provides a reward of 1. Thus, we will need an algorithm that learns long-term expected rewards. This is exactly what Q-Learning is designed to provide."
   ]
  },
  {
   "cell_type": "markdown",
   "metadata": {},
   "source": [
    "## Install OpenAI Gym\n",
    "To install the OpenAI gym, simply use  `pip install gym`  to grab it."
   ]
  },
  {
   "cell_type": "markdown",
   "metadata": {},
   "source": [
    "## Load the environment"
   ]
  },
  {
   "cell_type": "code",
   "execution_count": 3,
   "metadata": {
    "scrolled": false
   },
   "outputs": [],
   "source": [
    "import gym\n",
    "env = gym.make('FrozenLake-v0')"
   ]
  },
  {
   "cell_type": "markdown",
   "metadata": {},
   "source": [
    "For more information, please refer to [OpenAI documentation](https://gym.openai.com/docs)"
   ]
  },
  {
   "cell_type": "markdown",
   "metadata": {},
   "source": [
    "## Part 1 - Q-Table learning algorithm\n",
    "In it’s simplest implementation, Q-Learning is a table of values for every state (row) and action (column) possible in the environment. Within each cell of the table, we learn a value for how good it is to take a given action within a given state. In the case of the FrozenLake environment, we have 16 possible states (one for each block), and 4 possible actions (the four directions of movement), giving us a 16 x 4 table of Q-values. We start by initializing the table to be uniform (all zeros), and then as we observe the rewards we obtain for various actions, we update the table accordingly.\n",
    "\n",
    "We make updates to our Q-table using something called the [Bellman equation](https://en.wikipedia.org/wiki/Bellman_equation), which states that the expected long-term reward for a given action is equal to the immediate reward from the current action combined with the expected reward from the best future action taken at the following state. In equation form, the rule looks like this (Equation 1):\n",
    "$$ Q(s,a) = r + γ(\\max(Q(s’,a’)) $$"
   ]
  },
  {
   "cell_type": "markdown",
   "metadata": {},
   "source": [
    "This says that the Q-value for a given state ($s$) and action ($a$) should represent the current reward ($r$) plus the maximum discounted ($\\lambda$) future reward expected according to our own table for the next state ($s'$) we would end up in."
   ]
  },
  {
   "cell_type": "code",
   "execution_count": 4,
   "metadata": {
    "collapsed": true,
    "scrolled": true
   },
   "outputs": [],
   "source": [
    "#Initialize table, with states as rows and actions (up, down, left, or right) as columns \n",
    "Q = np.zeros([env.observation_space.n,env.action_space.n])\n",
    "#Set learning parameters\n",
    "lr = .8\n",
    "#Set discounted factor\n",
    "y = .95\n",
    "num_episodes = 2000\n",
    "#create lists to contain total rewards and steps per episode\n",
    "rList = []\n",
    "for i in range(num_episodes):\n",
    "    #Reset environment and get first new observation\n",
    "    s = env.reset()\n",
    "    #Total reward in one episode\n",
    "    rAll = 0\n",
    "    d = False\n",
    "    j = 0\n",
    "    while j < 99:\n",
    "        j+=1\n",
    "        ###############################################################################\n",
    "        # TODO: Implement the Q-Table learning algorithm.                             #\n",
    "        # You will need to do the following:                                          #\n",
    "        # (1) Choose an action by greedily (with noise) picking from Q table given s  #\n",
    "        #     as input.                                                               #\n",
    "        # (2) Get new state s1, reward r and done d from environment                  #\n",
    "        # (3) Update Q-Table with new knowledge.                                      #\n",
    "        # (4) Cumulate the total reward rAll                                          #\n",
    "        # (5) Update s                                                                #\n",
    "        # Note: You may use the gym interfaces env.action_space, env.step etc.        #\n",
    "        #       E.g. observation, reward, done, info = env.step(action)               #\n",
    "        #       Please refer to the docs for more information.                        #\n",
    "        #       For (1), consider adding noise as a mean of encouraging exploration.  #\n",
    "        #       For (3), calculate the new target Q-value using Bellman equation.     #\n",
    "        #       Instead of directly updating toward it, we take a small step in the   #\n",
    "        #       direction that will make the Q value closer to the target, i.e. use   #\n",
    "        #       learning rate that controls how much of the difference between        #\n",
    "        #       newly proposed Q-value and previous Q-value                           #\n",
    "        ###############################################################################\n",
    "        action = np.argmax(Q[s] + np.random.rand(*Q[s].shape)*(1/(i+1)))\n",
    "        observation, reward, done, info = env.step(action)\n",
    "        Q[s, action] = Q[s, action] + lr * (reward + y * np.max(Q[observation]) - Q[s, action])\n",
    "        s = observation\n",
    "        rAll = rAll * y + reward \n",
    "        d = done\n",
    "        ##############################################################################\n",
    "        #                             END OF YOUR CODE                               #\n",
    "        ##############################################################################\n",
    "        \n",
    "        #end of one episode\n",
    "        if d == True:\n",
    "            break\n",
    "    rList.append(rAll)"
   ]
  },
  {
   "cell_type": "markdown",
   "metadata": {},
   "source": [
    "The score is around 0.5 after 2000 episodes."
   ]
  },
  {
   "cell_type": "code",
   "execution_count": 5,
   "metadata": {
    "scrolled": true
   },
   "outputs": [
    {
     "name": "stdout",
     "output_type": "stream",
     "text": [
      "Score over time: 0.5635\n"
     ]
    }
   ],
   "source": [
    "print(\"Score over time: \" +  str(sum(rList)/num_episodes))"
   ]
  },
  {
   "cell_type": "code",
   "execution_count": 6,
   "metadata": {},
   "outputs": [
    {
     "name": "stdout",
     "output_type": "stream",
     "text": [
      "Final Q-Table Values\n",
      "[[  1.93176031e-01   3.93608305e-03   2.31641560e-03   3.65041422e-03]\n",
      " [  2.36087328e-03   0.00000000e+00   0.00000000e+00   1.58405313e-01]\n",
      " [  5.37379025e-04   9.17836417e-02   2.41057692e-03   2.44735476e-03]\n",
      " [  7.27533747e-04   6.65352570e-04   1.45019471e-03   4.57409792e-02]\n",
      " [  2.11874919e-01   1.36130801e-03   7.73491675e-04   1.11752538e-04]\n",
      " [  0.00000000e+00   0.00000000e+00   0.00000000e+00   0.00000000e+00]\n",
      " [  1.72461271e-04   0.00000000e+00   6.23276586e-02   1.61444819e-04]\n",
      " [  0.00000000e+00   0.00000000e+00   0.00000000e+00   0.00000000e+00]\n",
      " [  1.17034117e-03   0.00000000e+00   1.86221318e-03   1.88935445e-01]\n",
      " [  0.00000000e+00   2.65186681e-01   0.00000000e+00   9.23962695e-04]\n",
      " [  3.52727339e-02   0.00000000e+00   3.55162744e-04   0.00000000e+00]\n",
      " [  0.00000000e+00   0.00000000e+00   0.00000000e+00   0.00000000e+00]\n",
      " [  0.00000000e+00   0.00000000e+00   0.00000000e+00   0.00000000e+00]\n",
      " [  0.00000000e+00   0.00000000e+00   6.80428829e-01   0.00000000e+00]\n",
      " [  0.00000000e+00   0.00000000e+00   7.74501202e-01   0.00000000e+00]\n",
      " [  0.00000000e+00   0.00000000e+00   0.00000000e+00   0.00000000e+00]]\n"
     ]
    }
   ],
   "source": [
    "print(\"Final Q-Table Values\")\n",
    "print(Q)"
   ]
  },
  {
   "cell_type": "code",
   "execution_count": 7,
   "metadata": {},
   "outputs": [
    {
     "name": "stdout",
     "output_type": "stream",
     "text": [
      "  (Left)\n",
      "\u001b[41mS\u001b[0mFFF\n",
      "FHFH\n",
      "FFFH\n",
      "HFFG\n"
     ]
    }
   ],
   "source": [
    "# print out the 4 x 4 grid and the current position of the agent\n",
    "env.render()"
   ]
  },
  {
   "cell_type": "markdown",
   "metadata": {},
   "source": [
    "## Inline Question 1:\n",
    "In TODO(3), why not directly apply the Bellman equation for updating the Q value? (in this case lr = 1 and why?)\n",
    "\n",
    "**Your answer:** *Fill this in*"
   ]
  },
  {
   "cell_type": "markdown",
   "metadata": {},
   "source": [
    "## Inline Question 2:\n",
    "An optimal Q table will tell you the true expected discounted reward for any action given any state. If you find the maximum value of the learned table is not what you believe it should be, do you think it still make sense? Explain briefly.**\n",
    "\n",
    "**Your answer:** *Fill this in*"
   ]
  },
  {
   "cell_type": "markdown",
   "metadata": {
    "collapsed": true
   },
   "source": [
    "## Part 2 - Q-Network Approach\n",
    "While it is easy to have a 16x4 table for a simple grid world, the number of possible states in any modern game or real-world environment is nearly infinitely larger. For most interesting problems, tables simply don’t work. We instead need some way to take a description of our state, and produce Q-values for actions without a table: that is where neural networks come in. By acting as a function approximator, we can take any number of possible states that can be represented as a vector and learn to map them to Q-values."
   ]
  },
  {
   "cell_type": "markdown",
   "metadata": {},
   "source": [
    "In the case of the FrozenLake example, we will be using a one-layer network which takes the state encoded in a one-hot vector `(1x16)`, and produces a vector of 4 Q-values, one for each action. Such a simple network acts kind of like a glorified table, with the network weights serving as the old cells. The key difference is that we can easily expand the Tensorflow network with added layers, activation functions, and different input types, whereas all that is impossible with a regular table. The method of updating is a little different as well. Instead of directly updating our table, with a network we will be using backpropagation and a loss function. Our loss function will be sum-of-squares loss, where the difference between the current predicted Q-values, and the “target” value is computed and the gradients passed through the network. **In this case, our Q-target value for the chosen action is the equivalent to the Q-value computed in equation 1 above.**"
   ]
  },
  {
   "cell_type": "markdown",
   "metadata": {},
   "source": [
    "### Implementing the network itself"
   ]
  },
  {
   "cell_type": "code",
   "execution_count": 8,
   "metadata": {
    "collapsed": true
   },
   "outputs": [],
   "source": [
    "import tensorflow as tf\n",
    "env = gym.make('FrozenLake-v0')\n",
    "tf.reset_default_graph()"
   ]
  },
  {
   "cell_type": "code",
   "execution_count": 9,
   "metadata": {
    "collapsed": true
   },
   "outputs": [],
   "source": [
    "#These lines establish the feed-forward part of the network used to choose actions\n",
    "inputs1 = tf.placeholder(shape=[1,16],dtype=tf.float32)\n",
    "W = tf.Variable(tf.random_uniform([16,4],0,0.01))\n",
    "Qout = tf.matmul(inputs1,W)\n",
    "predict = tf.argmax(Qout,1)\n",
    "\n",
    "#Below we obtain the loss by taking the sum of squares difference between the target and prediction Q values.\n",
    "nextQ = tf.placeholder(shape=[1,4],dtype=tf.float32)\n",
    "loss = tf.reduce_sum(tf.square(nextQ - Qout))\n",
    "trainer = tf.train.GradientDescentOptimizer(learning_rate=0.1)\n",
    "updateModel = trainer.minimize(loss)"
   ]
  },
  {
   "cell_type": "markdown",
   "metadata": {},
   "source": [
    "### Training the network"
   ]
  },
  {
   "cell_type": "code",
   "execution_count": 11,
   "metadata": {},
   "outputs": [
    {
     "name": "stdout",
     "output_type": "stream",
     "text": [
      "Episode 9 reward: 0.0\n",
      "Episode 19 reward: 0.0\n",
      "Episode 29 reward: 0.2\n",
      "Episode 39 reward: 0.0\n",
      "Episode 49 reward: 0.0\n",
      "Episode 59 reward: 0.0\n",
      "Episode 69 reward: 0.0\n",
      "Episode 79 reward: 0.2\n",
      "Episode 89 reward: 0.0\n",
      "Episode 99 reward: 0.1\n",
      "Episode 109 reward: 0.3\n",
      "Episode 119 reward: 0.2\n",
      "Episode 129 reward: 0.0\n",
      "Episode 139 reward: 0.1\n",
      "Episode 149 reward: 0.0\n",
      "Episode 159 reward: 0.1\n",
      "Episode 169 reward: 0.0\n",
      "Episode 179 reward: 0.0\n",
      "Episode 189 reward: 0.0\n",
      "Episode 199 reward: 0.0\n",
      "Episode 209 reward: 0.0\n",
      "Episode 219 reward: 0.1\n",
      "Episode 229 reward: 0.1\n",
      "Episode 239 reward: 0.0\n",
      "Episode 249 reward: 0.0\n",
      "Episode 259 reward: 0.1\n",
      "Episode 269 reward: 0.1\n",
      "Episode 279 reward: 0.1\n",
      "Episode 289 reward: 0.1\n",
      "Episode 299 reward: 0.1\n",
      "Episode 309 reward: 0.1\n",
      "Episode 319 reward: 0.0\n",
      "Episode 329 reward: 0.0\n",
      "Episode 339 reward: 0.0\n",
      "Episode 349 reward: 0.0\n",
      "Episode 359 reward: 0.0\n",
      "Episode 369 reward: 0.1\n",
      "Episode 379 reward: 0.2\n",
      "Episode 389 reward: 0.1\n",
      "Episode 399 reward: 0.1\n",
      "Episode 409 reward: 0.2\n",
      "Episode 419 reward: 0.0\n",
      "Episode 429 reward: 0.5\n",
      "Episode 439 reward: 0.2\n",
      "Episode 449 reward: 0.0\n",
      "Episode 459 reward: 0.1\n",
      "Episode 469 reward: 0.1\n",
      "Episode 479 reward: 0.1\n",
      "Episode 489 reward: 0.0\n",
      "Episode 499 reward: 0.2\n",
      "Episode 509 reward: 0.1\n",
      "Episode 519 reward: 0.1\n",
      "Episode 529 reward: 0.1\n",
      "Episode 539 reward: 0.2\n",
      "Episode 549 reward: 0.0\n",
      "Episode 559 reward: 0.1\n",
      "Episode 569 reward: 0.4\n",
      "Episode 579 reward: 0.1\n",
      "Episode 589 reward: 0.2\n",
      "Episode 599 reward: 0.2\n",
      "Episode 609 reward: 0.2\n",
      "Episode 619 reward: 0.1\n",
      "Episode 629 reward: 0.1\n",
      "Episode 639 reward: 0.2\n",
      "Episode 649 reward: 0.3\n",
      "Episode 659 reward: 0.0\n",
      "Episode 669 reward: 0.5\n",
      "Episode 679 reward: 0.5\n",
      "Episode 689 reward: 0.5\n",
      "Episode 699 reward: 0.6\n",
      "Episode 709 reward: 0.8\n",
      "Episode 719 reward: 0.2\n",
      "Episode 729 reward: 0.6\n",
      "Episode 739 reward: 0.8\n",
      "Episode 749 reward: 0.7\n",
      "Episode 759 reward: 0.5\n",
      "Episode 769 reward: 0.6\n",
      "Episode 779 reward: 0.7\n",
      "Episode 789 reward: 0.3\n",
      "Episode 799 reward: 0.5\n",
      "Episode 809 reward: 0.8\n",
      "Episode 819 reward: 0.5\n",
      "Episode 829 reward: 0.5\n",
      "Episode 839 reward: 0.6\n",
      "Episode 849 reward: 0.8\n",
      "Episode 859 reward: 0.6\n",
      "Episode 869 reward: 0.3\n",
      "Episode 879 reward: 0.6\n",
      "Episode 889 reward: 0.8\n",
      "Episode 899 reward: 0.4\n",
      "Episode 909 reward: 0.6\n",
      "Episode 919 reward: 0.8\n",
      "Episode 929 reward: 0.5\n",
      "Episode 939 reward: 0.4\n",
      "Episode 949 reward: 0.6\n",
      "Episode 959 reward: 0.5\n",
      "Episode 969 reward: 0.6\n",
      "Episode 979 reward: 0.5\n",
      "Episode 989 reward: 0.5\n",
      "Episode 999 reward: 0.7\n",
      "Episode 1009 reward: 0.5\n",
      "Episode 1019 reward: 0.5\n",
      "Episode 1029 reward: 0.7\n",
      "Episode 1039 reward: 0.4\n",
      "Episode 1049 reward: 0.7\n",
      "Episode 1059 reward: 0.9\n",
      "Episode 1069 reward: 0.4\n",
      "Episode 1079 reward: 1.0\n",
      "Episode 1089 reward: 0.5\n",
      "Episode 1099 reward: 0.7\n",
      "Episode 1109 reward: 0.6\n",
      "Episode 1119 reward: 0.8\n",
      "Episode 1129 reward: 0.7\n",
      "Episode 1139 reward: 0.5\n",
      "Episode 1149 reward: 0.6\n",
      "Episode 1159 reward: 0.5\n",
      "Episode 1169 reward: 0.5\n",
      "Episode 1179 reward: 0.5\n",
      "Episode 1189 reward: 0.6\n",
      "Episode 1199 reward: 0.7\n",
      "Episode 1209 reward: 0.3\n",
      "Episode 1219 reward: 0.8\n",
      "Episode 1229 reward: 0.6\n",
      "Episode 1239 reward: 0.5\n",
      "Episode 1249 reward: 0.7\n",
      "Episode 1259 reward: 1.0\n",
      "Episode 1269 reward: 0.6\n",
      "Episode 1279 reward: 0.6\n",
      "Episode 1289 reward: 0.6\n",
      "Episode 1299 reward: 0.3\n",
      "Episode 1309 reward: 0.4\n",
      "Episode 1319 reward: 0.6\n",
      "Episode 1329 reward: 0.5\n",
      "Episode 1339 reward: 0.5\n",
      "Episode 1349 reward: 0.6\n",
      "Episode 1359 reward: 0.7\n",
      "Episode 1369 reward: 0.2\n",
      "Episode 1379 reward: 0.6\n",
      "Episode 1389 reward: 0.6\n",
      "Episode 1399 reward: 0.4\n",
      "Episode 1409 reward: 0.5\n",
      "Episode 1419 reward: 0.6\n",
      "Episode 1429 reward: 0.9\n",
      "Episode 1439 reward: 0.6\n",
      "Episode 1449 reward: 0.4\n",
      "Episode 1459 reward: 0.7\n",
      "Episode 1469 reward: 0.3\n",
      "Episode 1479 reward: 0.8\n",
      "Episode 1489 reward: 0.4\n",
      "Episode 1499 reward: 0.5\n",
      "Episode 1509 reward: 0.8\n",
      "Episode 1519 reward: 0.5\n",
      "Episode 1529 reward: 0.6\n",
      "Episode 1539 reward: 0.6\n",
      "Episode 1549 reward: 0.5\n",
      "Episode 1559 reward: 0.5\n",
      "Episode 1569 reward: 0.7\n",
      "Episode 1579 reward: 0.5\n",
      "Episode 1589 reward: 0.8\n",
      "Episode 1599 reward: 0.8\n",
      "Episode 1609 reward: 0.5\n",
      "Episode 1619 reward: 0.6\n",
      "Episode 1629 reward: 0.5\n",
      "Episode 1639 reward: 0.8\n",
      "Episode 1649 reward: 0.4\n",
      "Episode 1659 reward: 0.6\n",
      "Episode 1669 reward: 0.7\n",
      "Episode 1679 reward: 0.8\n",
      "Episode 1689 reward: 0.6\n",
      "Episode 1699 reward: 0.9\n",
      "Episode 1709 reward: 0.8\n",
      "Episode 1719 reward: 0.5\n",
      "Episode 1729 reward: 0.6\n",
      "Episode 1739 reward: 0.6\n",
      "Episode 1749 reward: 0.6\n",
      "Episode 1759 reward: 1.0\n",
      "Episode 1769 reward: 0.7\n",
      "Episode 1779 reward: 0.5\n",
      "Episode 1789 reward: 0.4\n",
      "Episode 1799 reward: 0.3\n",
      "Episode 1809 reward: 0.3\n",
      "Episode 1819 reward: 0.7\n",
      "Episode 1829 reward: 0.6\n",
      "Episode 1839 reward: 0.7\n",
      "Episode 1849 reward: 0.8\n",
      "Episode 1859 reward: 0.4\n",
      "Episode 1869 reward: 0.7\n",
      "Episode 1879 reward: 0.4\n",
      "Episode 1889 reward: 0.3\n",
      "Episode 1899 reward: 0.8\n",
      "Episode 1909 reward: 0.6\n",
      "Episode 1919 reward: 0.7\n",
      "Episode 1929 reward: 0.5\n",
      "Episode 1939 reward: 0.7\n",
      "Episode 1949 reward: 0.2\n",
      "Episode 1959 reward: 0.4\n",
      "Episode 1969 reward: 0.6\n",
      "Episode 1979 reward: 0.5\n",
      "Episode 1989 reward: 0.3\n",
      "Episode 1999 reward: 0.4\n",
      "Percent of succesful episodes: 0.4205%\n"
     ]
    }
   ],
   "source": [
    "init = tf.global_variables_initializer()\n",
    "\n",
    "# Set learning parameters\n",
    "#discounted factor\n",
    "y = .99\n",
    "#chance of random action\n",
    "e = 0.1\n",
    "num_episodes = 2000\n",
    "#create lists to contain total rewards and steps per episode\n",
    "jList = []\n",
    "rList = []\n",
    "with tf.Session() as sess:\n",
    "    sess.run(init)\n",
    "    for i in range(num_episodes):\n",
    "        #Reset environment and get first new observation\n",
    "        s = env.reset()\n",
    "        #Total reward in one episode\n",
    "        rAll = 0\n",
    "        d = False\n",
    "        j = 0\n",
    "        #The Q-Network\n",
    "        while j < 99:\n",
    "            j+=1\n",
    "            \n",
    "            ###############################################################################\n",
    "            # TODO: Implement the Q-network approach.                                     #\n",
    "            # You will need to do the following:                                          #\n",
    "            # (1) Choose an action by greedily (with e chance of random action, e=0.1)    # \n",
    "            #     from the Q-network                                                      #\n",
    "            # (2) Get new state s1, reward r and done d from environment                  #\n",
    "            # (3) Obtain the Q' values by feeding the new state through our network       # \n",
    "            # (4) Obtain maxQ' and set our target value for chosen action.                #\n",
    "            # (5) Train our network using target and predicted Q values                   #\n",
    "            # (6) Cumulate the total reward rAll                                          #\n",
    "            # (7) Update observation s                                                    #\n",
    "            # Note: In (1) we need to feed a one-hot vector encoding the state space to   # \n",
    "            #       our network. The environment represents the position in the grid-     #\n",
    "            #       world as a number between 0 and 15, e.g. if s=11, the one-hot vector  #\n",
    "            #       (here is inputs1) should be                                           #\n",
    "            #       [[ 0.  0.  0.  0.  0.  0.  0.  0.  0.  0.  0.  1.  0.  0.  0.  0.]]   #\n",
    "            ###############################################################################\n",
    "            d = None\n",
<<<<<<< HEAD
    "            action = None  \n",
=======
>>>>>>> afe88a09cfaf2b5e3e964cee9ab4c550238c6ee4
    "\n",
    "            #Choose an action by greedily (with e chance of random action) from the Q-network\n",
    "            a,allQ = sess.run([predict,Qout],feed_dict={inputs1:np.identity(16)[s:s+1]})\n",
    "            if np.random.rand(1) < e:\n",
    "                a[0] = env.action_space.sample()\n",
    "                \n",
    "            #Get new state and reward from environment\n",
    "            s1,r,d,_ = env.step(a[0])\n",
    "            \n",
    "            #Obtain the Q' values by feeding the new state through our network\n",
    "            Q1 = sess.run(Qout,feed_dict={inputs1:np.identity(16)[s1:s1+1]})\n",
    "            \n",
    "            #Obtain maxQ' and set our target value for chosen action.\n",
    "            maxQ1 = np.max(Q1)\n",
    "            targetQ = allQ\n",
    "            targetQ[0,a[0]] = r + y*maxQ1\n",
    "            \n",
    "            #Train our network using target and predicted Q values\n",
    "            _,W1 = sess.run([updateModel,W],feed_dict={inputs1:np.identity(16)[s:s+1],nextQ:targetQ})\n",
    "            rAll += r\n",
    "            s = s1\n",
    "            ##############################################################################\n",
    "            #                             END OF YOUR CODE                               #\n",
    "            ##############################################################################\n",
    "            \n",
    "            if d == True:\n",
    "                #Reduce chance of random action as we train the model.\n",
    "                e = 1./((i/50) + 10)\n",
    "                break\n",
    "        jList.append(j)\n",
    "        rList.append(rAll)\n",
    "        if len(rList) % 10 == 0:\n",
    "            print(\"Episode\",i,\"reward:\",np.mean(rList[-10:]))\n",
    "print(\"Percent of succesful episodes: \" + str(sum(rList)/num_episodes) + \"%\")"
   ]
  },
  {
   "cell_type": "markdown",
   "metadata": {},
   "source": [
    "### Some statistics on network performance"
   ]
  },
  {
   "cell_type": "markdown",
   "metadata": {},
   "source": [
    "We can see that the network beings to consistly reach the goal around the 750 episode mark."
   ]
  },
  {
   "cell_type": "code",
   "execution_count": 12,
   "metadata": {},
   "outputs": [
    {
     "data": {
      "text/plain": [
       "[<matplotlib.lines.Line2D at 0x1a6b86fbcf8>]"
      ]
     },
     "execution_count": 12,
     "metadata": {},
     "output_type": "execute_result"
    },
    {
     "data": {
      "image/png": "iVBORw0KGgoAAAANSUhEUgAAAXcAAAD8CAYAAACMwORRAAAABHNCSVQICAgIfAhkiAAAAAlwSFlz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\n",
      "text/plain": [
       "<matplotlib.figure.Figure at 0x1a6af6e2390>"
      ]
     },
     "metadata": {},
     "output_type": "display_data"
    }
   ],
   "source": [
    "plt.plot(rList)"
   ]
  },
  {
   "cell_type": "markdown",
   "metadata": {},
   "source": [
    "It also begins to progress through the environment for longer than chance around the 750 mark as well."
   ]
  },
  {
   "cell_type": "code",
   "execution_count": 13,
   "metadata": {},
   "outputs": [
    {
     "data": {
      "text/plain": [
       "[<matplotlib.lines.Line2D at 0x1a6cc868898>]"
      ]
     },
     "execution_count": 13,
     "metadata": {},
     "output_type": "execute_result"
    },
    {
     "data": {
      "image/png": "iVBORw0KGgoAAAANSUhEUgAAAXoAAAD8CAYAAAB5Pm/hAAAABHNCSVQICAgIfAhkiAAAAAlwSFlz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\n",
      "text/plain": [
       "<matplotlib.figure.Figure at 0x1a6af6e26d8>"
      ]
     },
     "metadata": {},
     "output_type": "display_data"
    }
   ],
   "source": [
    "plt.plot(jList)"
   ]
  },
  {
   "cell_type": "markdown",
   "metadata": {},
   "source": [
    "While the network learns to solve the FrozenLake problem, it turns out it doesn’t do so quite as efficiently as the Q-Table. While neural networks allow for greater flexibility, they do so at the cost of stability when it comes to Q-Learning. There are a number of possible extensions to our simple Q-Network which allow for greater performance and more robust learning. we will be exploring those additions in Exercise 2."
   ]
  },
  {
   "cell_type": "code",
   "execution_count": null,
   "metadata": {
    "collapsed": true
   },
   "outputs": [],
   "source": []
  }
 ],
 "metadata": {
  "anaconda-cloud": {},
  "kernelspec": {
   "display_name": "Python 3",
   "language": "python",
   "name": "python3"
  },
  "language_info": {
   "codemirror_mode": {
    "name": "ipython",
    "version": 3
   },
   "file_extension": ".py",
   "mimetype": "text/x-python",
   "name": "python",
   "nbconvert_exporter": "python",
   "pygments_lexer": "ipython3",
   "version": "3.5.3"
  }
 },
 "nbformat": 4,
 "nbformat_minor": 1
}
