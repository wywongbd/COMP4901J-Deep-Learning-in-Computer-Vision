{
 "cells": [
  {
   "cell_type": "markdown",
   "metadata": {},
   "source": [
    "# Fully-Connected Neural Nets\n",
    "In the previous homework you implemented a fully-connected two-layer neural network on CIFAR-10. The implementation was simple but not very modular since the loss and gradient were computed in a single monolithic function. This is manageable for a simple two-layer network, but would become impractical as we move to bigger models. Ideally we want to build networks using a more modular design so that we can implement different layer types in isolation and then snap them together into models with different architectures.\n",
    "\n",
    "In this exercise we will implement fully-connected networks using a more modular approach. For each layer we will implement a `forward` and a `backward` function. The `forward` function will receive inputs, weights, and other parameters and will return both an output and a `cache` object storing data needed for the backward pass, like this:\n",
    "\n",
    "```python\n",
    "def layer_forward(x, w):\n",
    "  \"\"\" Receive inputs x and weights w \"\"\"\n",
    "  # Do some computations ...\n",
    "  z = # ... some intermediate value\n",
    "  # Do some more computations ...\n",
    "  out = # the output\n",
    "   \n",
    "  cache = (x, w, z, out) # Values we need to compute gradients\n",
    "   \n",
    "  return out, cache\n",
    "```\n",
    "\n",
    "The backward pass will receive upstream derivatives and the `cache` object, and will return gradients with respect to the inputs and weights, like this:\n",
    "\n",
    "```python\n",
    "def layer_backward(dout, cache):\n",
    "  \"\"\"\n",
    "  Receive derivative of loss with respect to outputs and cache,\n",
    "  and compute derivative with respect to inputs.\n",
    "  \"\"\"\n",
    "  # Unpack cache values\n",
    "  x, w, z, out = cache\n",
    "  \n",
    "  # Use values in cache to compute derivatives\n",
    "  dx = # Derivative of loss with respect to x\n",
    "  dw = # Derivative of loss with respect to w\n",
    "  \n",
    "  return dx, dw\n",
    "```\n",
    "\n",
    "After implementing a bunch of layers this way, we will be able to easily combine them to build classifiers with different architectures.\n",
    "\n",
    "In addition to implementing fully-connected networks of arbitrary depth, we will also explore different update rules for optimization, and introduce Dropout as a regularizer and Batch Normalization as a tool to more efficiently optimize deep networks.\n",
    "  "
   ]
  },
  {
   "cell_type": "code",
   "execution_count": 1,
   "metadata": {},
   "outputs": [
    {
     "name": "stdout",
     "output_type": "stream",
     "text": [
      "run the following from the cs231n directory and try again:\n",
      "python setup.py build_ext --inplace\n",
      "You may also need to restart your iPython kernel\n"
     ]
    }
   ],
   "source": [
    "# As usual, a bit of setup\n",
    "from __future__ import print_function\n",
    "import time\n",
    "import numpy as np\n",
    "import matplotlib.pyplot as plt\n",
    "from cs231n.classifiers.fc_net import *\n",
    "from cs231n.data_utils import get_CIFAR10_data\n",
    "from cs231n.gradient_check import eval_numerical_gradient, eval_numerical_gradient_array\n",
    "from cs231n.solver import Solver\n",
    "\n",
    "%matplotlib inline\n",
    "plt.rcParams['figure.figsize'] = (10.0, 8.0) # set default size of plots\n",
    "plt.rcParams['image.interpolation'] = 'nearest'\n",
    "plt.rcParams['image.cmap'] = 'gray'\n",
    "\n",
    "# for auto-reloading external modules\n",
    "# see http://stackoverflow.com/questions/1907993/autoreload-of-modules-in-ipython\n",
    "%load_ext autoreload\n",
    "%autoreload 2\n",
    "\n",
    "def rel_error(x, y):\n",
    "  \"\"\" returns relative error \"\"\"\n",
    "  return np.max(np.abs(x - y) / (np.maximum(1e-8, np.abs(x) + np.abs(y))))"
   ]
  },
  {
   "cell_type": "code",
   "execution_count": 2,
   "metadata": {},
   "outputs": [
    {
     "name": "stdout",
     "output_type": "stream",
     "text": [
      "('X_test: ', (1000, 3, 32, 32))\n",
      "('y_val: ', (1000,))\n",
      "('y_train: ', (49000,))\n",
      "('y_test: ', (1000,))\n",
      "('X_train: ', (49000, 3, 32, 32))\n",
      "('X_val: ', (1000, 3, 32, 32))\n"
     ]
    }
   ],
   "source": [
    "# Load the (preprocessed) CIFAR10 data.\n",
    "\n",
    "data = get_CIFAR10_data()\n",
    "for k, v in list(data.items()):\n",
    "  print(('%s: ' % k, v.shape))"
   ]
  },
  {
   "cell_type": "markdown",
   "metadata": {},
   "source": [
    "# Affine layer: foward\n",
    "Open the file `cs231n/layers.py` and implement the `affine_forward` function.\n",
    "\n",
    "Once you are done you can test your implementaion by running the following:"
   ]
  },
  {
   "cell_type": "code",
   "execution_count": 3,
   "metadata": {},
   "outputs": [
    {
     "name": "stdout",
     "output_type": "stream",
     "text": [
      "Testing affine_forward function:\n",
      "difference:  9.76984772881e-10\n"
     ]
    }
   ],
   "source": [
    "# Test the affine_forward function\n",
    "\n",
    "num_inputs = 2\n",
    "input_shape = (4, 5, 6)\n",
    "output_dim = 3\n",
    "\n",
    "input_size = num_inputs * np.prod(input_shape)\n",
    "weight_size = output_dim * np.prod(input_shape)\n",
    "\n",
    "x = np.linspace(-0.1, 0.5, num=input_size).reshape(num_inputs, *input_shape)\n",
    "w = np.linspace(-0.2, 0.3, num=weight_size).reshape(np.prod(input_shape), output_dim)\n",
    "b = np.linspace(-0.3, 0.1, num=output_dim)\n",
    "\n",
    "out, _ = affine_forward(x, w, b)\n",
    "correct_out = np.array([[ 1.49834967,  1.70660132,  1.91485297],\n",
    "                        [ 3.25553199,  3.5141327,   3.77273342]])\n",
    "\n",
    "# Compare your output with ours. The error should be around 1e-9.\n",
    "print('Testing affine_forward function:')\n",
    "print('difference: ', rel_error(out, correct_out))"
   ]
  },
  {
   "cell_type": "markdown",
   "metadata": {},
   "source": [
    "# Affine layer: backward\n",
    "Now implement the `affine_backward` function and test your implementation using numeric gradient checking."
   ]
  },
  {
   "cell_type": "code",
   "execution_count": 4,
   "metadata": {},
   "outputs": [
    {
     "name": "stdout",
     "output_type": "stream",
     "text": [
      "Testing affine_backward function:\n",
      "dx error:  1.09081995087e-10\n",
      "dw error:  2.17526355046e-10\n",
      "db error:  7.73697883449e-12\n"
     ]
    }
   ],
   "source": [
    "# Test the affine_backward function\n",
    "np.random.seed(231)\n",
    "x = np.random.randn(10, 2, 3)\n",
    "w = np.random.randn(6, 5)\n",
    "b = np.random.randn(5)\n",
    "dout = np.random.randn(10, 5)\n",
    "\n",
    "dx_num = eval_numerical_gradient_array(lambda x: affine_forward(x, w, b)[0], x, dout)\n",
    "dw_num = eval_numerical_gradient_array(lambda w: affine_forward(x, w, b)[0], w, dout)\n",
    "db_num = eval_numerical_gradient_array(lambda b: affine_forward(x, w, b)[0], b, dout)\n",
    "\n",
    "_, cache = affine_forward(x, w, b)\n",
    "dx, dw, db = affine_backward(dout, cache)\n",
    "\n",
    "# The error should be around 1e-10\n",
    "print('Testing affine_backward function:')\n",
    "print('dx error: ', rel_error(dx_num, dx))\n",
    "print('dw error: ', rel_error(dw_num, dw))\n",
    "print('db error: ', rel_error(db_num, db))"
   ]
  },
  {
   "cell_type": "markdown",
   "metadata": {},
   "source": [
    "# ReLU layer: forward\n",
    "Implement the forward pass for the ReLU activation function in the `relu_forward` function and test your implementation using the following:"
   ]
  },
  {
   "cell_type": "code",
   "execution_count": 5,
   "metadata": {},
   "outputs": [
    {
     "name": "stdout",
     "output_type": "stream",
     "text": [
      "Testing relu_forward function:\n",
      "difference:  4.99999979802e-08\n"
     ]
    }
   ],
   "source": [
    "# Test the relu_forward function\n",
    "\n",
    "x = np.linspace(-0.5, 0.5, num=12).reshape(3, 4)\n",
    "\n",
    "out, _ = relu_forward(x)\n",
    "correct_out = np.array([[ 0.,          0.,          0.,          0.,        ],\n",
    "                        [ 0.,          0.,          0.04545455,  0.13636364,],\n",
    "                        [ 0.22727273,  0.31818182,  0.40909091,  0.5,       ]])\n",
    "\n",
    "# Compare your output with ours. The error should be around 5e-8\n",
    "print('Testing relu_forward function:')\n",
    "print('difference: ', rel_error(out, correct_out))"
   ]
  },
  {
   "cell_type": "markdown",
   "metadata": {},
   "source": [
    "# ReLU layer: backward\n",
    "Now implement the backward pass for the ReLU activation function in the `relu_backward` function and test your implementation using numeric gradient checking:"
   ]
  },
  {
   "cell_type": "code",
   "execution_count": 6,
   "metadata": {},
   "outputs": [
    {
     "name": "stdout",
     "output_type": "stream",
     "text": [
      "Testing relu_backward function:\n",
      "dx error:  3.27563491363e-12\n"
     ]
    }
   ],
   "source": [
    "np.random.seed(231)\n",
    "x = np.random.randn(10, 10)\n",
    "dout = np.random.randn(*x.shape)\n",
    "\n",
    "dx_num = eval_numerical_gradient_array(lambda x: relu_forward(x)[0], x, dout)\n",
    "\n",
    "_, cache = relu_forward(x)\n",
    "dx = relu_backward(dout, cache)\n",
    "\n",
    "# The error should be around 3e-12\n",
    "print('Testing relu_backward function:')\n",
    "print('dx error: ', rel_error(dx_num, dx))"
   ]
  },
  {
   "cell_type": "markdown",
   "metadata": {},
   "source": [
    "# \"Sandwich\" layers\n",
    "There are some common patterns of layers that are frequently used in neural nets. For example, affine layers are frequently followed by a ReLU nonlinearity. To make these common patterns easy, we define several convenience layers in the file `cs231n/layer_utils.py`.\n",
    "\n",
    "For now take a look at the `affine_relu_forward` and `affine_relu_backward` functions, and run the following to numerically gradient check the backward pass:"
   ]
  },
  {
   "cell_type": "code",
   "execution_count": 7,
   "metadata": {},
   "outputs": [
    {
     "name": "stdout",
     "output_type": "stream",
     "text": [
      "Testing affine_relu_forward:\n",
      "dx error:  6.39553504205e-11\n",
      "dw error:  8.16201110576e-11\n",
      "db error:  7.82672402146e-12\n"
     ]
    }
   ],
   "source": [
    "from cs231n.layer_utils import affine_relu_forward, affine_relu_backward\n",
    "np.random.seed(231)\n",
    "x = np.random.randn(2, 3, 4)\n",
    "w = np.random.randn(12, 10)\n",
    "b = np.random.randn(10)\n",
    "dout = np.random.randn(2, 10)\n",
    "\n",
    "out, cache = affine_relu_forward(x, w, b)\n",
    "dx, dw, db = affine_relu_backward(dout, cache)\n",
    "\n",
    "dx_num = eval_numerical_gradient_array(lambda x: affine_relu_forward(x, w, b)[0], x, dout)\n",
    "dw_num = eval_numerical_gradient_array(lambda w: affine_relu_forward(x, w, b)[0], w, dout)\n",
    "db_num = eval_numerical_gradient_array(lambda b: affine_relu_forward(x, w, b)[0], b, dout)\n",
    "\n",
    "print('Testing affine_relu_forward:')\n",
    "print('dx error: ', rel_error(dx_num, dx))\n",
    "print('dw error: ', rel_error(dw_num, dw))\n",
    "print('db error: ', rel_error(db_num, db))"
   ]
  },
  {
   "cell_type": "markdown",
   "metadata": {},
   "source": [
    "# Loss layers: Softmax and SVM\n",
    "You implemented these loss functions in the last assignment, so we'll give them to you for free here. You should still make sure you understand how they work by looking at the implementations in `cs231n/layers.py`.\n",
    "\n",
    "You can make sure that the implementations are correct by running the following:"
   ]
  },
  {
   "cell_type": "code",
   "execution_count": 8,
   "metadata": {},
   "outputs": [
    {
     "name": "stdout",
     "output_type": "stream",
     "text": [
      "Testing svm_loss:\n",
      "loss:  8.9996027491\n",
      "dx error:  1.40215660067e-09\n",
      "\n",
      "Testing softmax_loss:\n",
      "loss:  2.3025458445\n",
      "dx error:  9.38467316199e-09\n"
     ]
    }
   ],
   "source": [
    "np.random.seed(231)\n",
    "num_classes, num_inputs = 10, 50\n",
    "x = 0.001 * np.random.randn(num_inputs, num_classes)\n",
    "y = np.random.randint(num_classes, size=num_inputs)\n",
    "\n",
    "dx_num = eval_numerical_gradient(lambda x: svm_loss(x, y)[0], x, verbose=False)\n",
    "loss, dx = svm_loss(x, y)\n",
    "\n",
    "# Test svm_loss function. Loss should be around 9 and dx error should be 1e-9\n",
    "print('Testing svm_loss:')\n",
    "print('loss: ', loss)\n",
    "print('dx error: ', rel_error(dx_num, dx))\n",
    "\n",
    "dx_num = eval_numerical_gradient(lambda x: softmax_loss(x, y)[0], x, verbose=False)\n",
    "loss, dx = softmax_loss(x, y)\n",
    "\n",
    "# Test softmax_loss function. Loss should be 2.3 and dx error should be 1e-8\n",
    "print('\\nTesting softmax_loss:')\n",
    "print('loss: ', loss)\n",
    "print('dx error: ', rel_error(dx_num, dx))"
   ]
  },
  {
   "cell_type": "markdown",
   "metadata": {},
   "source": [
    "# Two-layer network\n",
    "In the previous assignment you implemented a two-layer neural network in a single monolithic class. Now that you have implemented modular versions of the necessary layers, you will reimplement the two layer network using these modular implementations.\n",
    "\n",
    "Open the file `cs231n/classifiers/fc_net.py` and complete the implementation of the `TwoLayerNet` class. This class will serve as a model for the other networks you will implement in this assignment, so read through it to make sure you understand the API. You can run the cell below to test your implementation."
   ]
  },
  {
   "cell_type": "code",
   "execution_count": 9,
   "metadata": {},
   "outputs": [
    {
     "name": "stdout",
     "output_type": "stream",
     "text": [
      "Testing initialization ... \n",
      "Testing test-time forward pass ... \n",
      "Testing training loss (no regularization)\n",
      "Running numeric gradient check with reg =  0.0\n",
      "W1 relative error: 1.22e-08\n",
      "W2 relative error: 3.50e-10\n",
      "b1 relative error: 8.37e-09\n",
      "b2 relative error: 2.53e-10\n",
      "Running numeric gradient check with reg =  0.7\n",
      "W1 relative error: 2.53e-07\n",
      "W2 relative error: 7.98e-08\n",
      "b1 relative error: 1.56e-08\n",
      "b2 relative error: 9.09e-10\n"
     ]
    }
   ],
   "source": [
    "np.random.seed(231)\n",
    "N, D, H, C = 3, 5, 50, 7\n",
    "X = np.random.randn(N, D)\n",
    "y = np.random.randint(C, size=N)\n",
    "\n",
    "std = 1e-3\n",
    "model = TwoLayerNet(input_dim=D, hidden_dim=H, num_classes=C, weight_scale=std)\n",
    "\n",
    "print('Testing initialization ... ')\n",
    "W1_std = abs(model.params['W1'].std() - std)\n",
    "b1 = model.params['b1']\n",
    "W2_std = abs(model.params['W2'].std() - std)\n",
    "b2 = model.params['b2']\n",
    "assert W1_std < std / 10, 'First layer weights do not seem right'\n",
    "assert np.all(b1 == 0), 'First layer biases do not seem right'\n",
    "assert W2_std < std / 10, 'Second layer weights do not seem right'\n",
    "assert np.all(b2 == 0), 'Second layer biases do not seem right'\n",
    "\n",
    "print('Testing test-time forward pass ... ')\n",
    "model.params['W1'] = np.linspace(-0.7, 0.3, num=D*H).reshape(D, H)\n",
    "model.params['b1'] = np.linspace(-0.1, 0.9, num=H)\n",
    "model.params['W2'] = np.linspace(-0.3, 0.4, num=H*C).reshape(H, C)\n",
    "model.params['b2'] = np.linspace(-0.9, 0.1, num=C)\n",
    "X = np.linspace(-5.5, 4.5, num=N*D).reshape(D, N).T\n",
    "scores = model.loss(X)\n",
    "correct_scores = np.asarray(\n",
    "  [[11.53165108,  12.2917344,   13.05181771,  13.81190102,  14.57198434, 15.33206765,  16.09215096],\n",
    "   [12.05769098,  12.74614105,  13.43459113,  14.1230412,   14.81149128, 15.49994135,  16.18839143],\n",
    "   [12.58373087,  13.20054771,  13.81736455,  14.43418138,  15.05099822, 15.66781506,  16.2846319 ]])\n",
    "scores_diff = np.abs(scores - correct_scores).sum()\n",
    "assert scores_diff < 1e-6, 'Problem with test-time forward pass'\n",
    "\n",
    "print('Testing training loss (no regularization)')\n",
    "y = np.asarray([0, 5, 1])\n",
    "loss, grads = model.loss(X, y)\n",
    "correct_loss = 3.4702243556\n",
    "assert abs(loss - correct_loss) < 1e-10, 'Problem with training-time loss'\n",
    "\n",
    "model.reg = 1.0\n",
    "loss, grads = model.loss(X, y)\n",
    "correct_loss = 26.5948426952\n",
    "assert abs(loss - correct_loss) < 1e-10, 'Problem with regularization loss'\n",
    "\n",
    "for reg in [0.0, 0.7]:\n",
    "  print('Running numeric gradient check with reg = ', reg)\n",
    "  model.reg = reg\n",
    "  loss, grads = model.loss(X, y)\n",
    "\n",
    "  for name in sorted(grads):\n",
    "    f = lambda _: model.loss(X, y)[0]\n",
    "    grad_num = eval_numerical_gradient(f, model.params[name], verbose=False)\n",
    "    print('%s relative error: %.2e' % (name, rel_error(grad_num, grads[name])))"
   ]
  },
  {
   "cell_type": "markdown",
   "metadata": {},
   "source": [
    "# Solver\n",
    "In the previous assignment, the logic for training models was coupled to the models themselves. Following a more modular design, for this assignment we have split the logic for training models into a separate class.\n",
    "\n",
    "Open the file `cs231n/solver.py` and read through it to familiarize yourself with the API. After doing so, use a `Solver` instance to train a `TwoLayerNet` that achieves at least `50%` accuracy on the validation set."
   ]
  },
  {
   "cell_type": "code",
   "execution_count": 10,
   "metadata": {},
   "outputs": [
    {
     "name": "stdout",
     "output_type": "stream",
     "text": [
      "(Iteration 1 / 4900) loss: 3.888752\n",
      "(Epoch 0 / 10) train acc: 0.159000; val_acc: 0.169000\n",
      "(Iteration 101 / 4900) loss: 2.889237\n",
      "(Iteration 201 / 4900) loss: 2.334526\n",
      "(Iteration 301 / 4900) loss: 2.237187\n",
      "(Iteration 401 / 4900) loss: 1.883663\n",
      "(Epoch 1 / 10) train acc: 0.425000; val_acc: 0.414000\n",
      "(Iteration 501 / 4900) loss: 1.840386\n",
      "(Iteration 601 / 4900) loss: 1.745166\n",
      "(Iteration 701 / 4900) loss: 1.842121\n",
      "(Iteration 801 / 4900) loss: 1.767769\n",
      "(Iteration 901 / 4900) loss: 1.553805\n",
      "(Epoch 2 / 10) train acc: 0.463000; val_acc: 0.455000\n",
      "(Iteration 1001 / 4900) loss: 1.591095\n",
      "(Iteration 1101 / 4900) loss: 1.816145\n",
      "(Iteration 1201 / 4900) loss: 1.674919\n"
     ]
    },
    {
     "ename": "KeyboardInterrupt",
     "evalue": "",
     "output_type": "error",
     "traceback": [
      "\u001b[0;31m---------------------------------------------------------------------------\u001b[0m",
      "\u001b[0;31mKeyboardInterrupt\u001b[0m                         Traceback (most recent call last)",
      "\u001b[0;32m<ipython-input-10-1616a27e06f0>\u001b[0m in \u001b[0;36m<module>\u001b[0;34m()\u001b[0m\n\u001b[1;32m     16\u001b[0m                     \u001b[0mnum_epochs\u001b[0m\u001b[1;33m=\u001b[0m\u001b[1;36m10\u001b[0m\u001b[1;33m,\u001b[0m \u001b[0mbatch_size\u001b[0m\u001b[1;33m=\u001b[0m\u001b[1;36m100\u001b[0m\u001b[1;33m,\u001b[0m\u001b[1;33m\u001b[0m\u001b[0m\n\u001b[1;32m     17\u001b[0m                     print_every=100)\n\u001b[0;32m---> 18\u001b[0;31m \u001b[0msolver\u001b[0m\u001b[1;33m.\u001b[0m\u001b[0mtrain\u001b[0m\u001b[1;33m(\u001b[0m\u001b[1;33m)\u001b[0m\u001b[1;33m\u001b[0m\u001b[0m\n\u001b[0m\u001b[1;32m     19\u001b[0m \u001b[1;33m\u001b[0m\u001b[0m\n\u001b[1;32m     20\u001b[0m \u001b[1;31m##############################################################################\u001b[0m\u001b[1;33m\u001b[0m\u001b[1;33m\u001b[0m\u001b[0m\n",
      "\u001b[0;32mC:\\Users\\user\\coding_workspace\\DeepLearningW_CV\\COMP4901J_assignment2\\assignment2\\cs231n\\solver.py\u001b[0m in \u001b[0;36mtrain\u001b[0;34m(self)\u001b[0m\n\u001b[1;32m    264\u001b[0m \u001b[1;33m\u001b[0m\u001b[0m\n\u001b[1;32m    265\u001b[0m         \u001b[1;32mfor\u001b[0m \u001b[0mt\u001b[0m \u001b[1;32min\u001b[0m \u001b[0mrange\u001b[0m\u001b[1;33m(\u001b[0m\u001b[0mnum_iterations\u001b[0m\u001b[1;33m)\u001b[0m\u001b[1;33m:\u001b[0m\u001b[1;33m\u001b[0m\u001b[0m\n\u001b[0;32m--> 266\u001b[0;31m             \u001b[0mself\u001b[0m\u001b[1;33m.\u001b[0m\u001b[0m_step\u001b[0m\u001b[1;33m(\u001b[0m\u001b[1;33m)\u001b[0m\u001b[1;33m\u001b[0m\u001b[0m\n\u001b[0m\u001b[1;32m    267\u001b[0m \u001b[1;33m\u001b[0m\u001b[0m\n\u001b[1;32m    268\u001b[0m             \u001b[1;31m# Maybe print training loss\u001b[0m\u001b[1;33m\u001b[0m\u001b[1;33m\u001b[0m\u001b[0m\n",
      "\u001b[0;32mC:\\Users\\user\\coding_workspace\\DeepLearningW_CV\\COMP4901J_assignment2\\assignment2\\cs231n\\solver.py\u001b[0m in \u001b[0;36m_step\u001b[0;34m(self)\u001b[0m\n\u001b[1;32m    180\u001b[0m \u001b[1;33m\u001b[0m\u001b[0m\n\u001b[1;32m    181\u001b[0m         \u001b[1;31m# Compute loss and gradient\u001b[0m\u001b[1;33m\u001b[0m\u001b[1;33m\u001b[0m\u001b[0m\n\u001b[0;32m--> 182\u001b[0;31m         \u001b[0mloss\u001b[0m\u001b[1;33m,\u001b[0m \u001b[0mgrads\u001b[0m \u001b[1;33m=\u001b[0m \u001b[0mself\u001b[0m\u001b[1;33m.\u001b[0m\u001b[0mmodel\u001b[0m\u001b[1;33m.\u001b[0m\u001b[0mloss\u001b[0m\u001b[1;33m(\u001b[0m\u001b[0mX_batch\u001b[0m\u001b[1;33m,\u001b[0m \u001b[0my_batch\u001b[0m\u001b[1;33m)\u001b[0m\u001b[1;33m\u001b[0m\u001b[0m\n\u001b[0m\u001b[1;32m    183\u001b[0m         \u001b[0mself\u001b[0m\u001b[1;33m.\u001b[0m\u001b[0mloss_history\u001b[0m\u001b[1;33m.\u001b[0m\u001b[0mappend\u001b[0m\u001b[1;33m(\u001b[0m\u001b[0mloss\u001b[0m\u001b[1;33m)\u001b[0m\u001b[1;33m\u001b[0m\u001b[0m\n\u001b[1;32m    184\u001b[0m \u001b[1;33m\u001b[0m\u001b[0m\n",
      "\u001b[0;32mC:\\Users\\user\\coding_workspace\\DeepLearningW_CV\\COMP4901J_assignment2\\assignment2\\cs231n\\classifiers\\fc_net.py\u001b[0m in \u001b[0;36mloss\u001b[0;34m(self, X, y)\u001b[0m\n\u001b[1;32m     83\u001b[0m         \u001b[1;31m# class scores for X and storing them in the scores variable.              #\u001b[0m\u001b[1;33m\u001b[0m\u001b[1;33m\u001b[0m\u001b[0m\n\u001b[1;32m     84\u001b[0m         \u001b[1;31m############################################################################\u001b[0m\u001b[1;33m\u001b[0m\u001b[1;33m\u001b[0m\u001b[0m\n\u001b[0;32m---> 85\u001b[0;31m         \u001b[0maffine1_score\u001b[0m\u001b[1;33m,\u001b[0m \u001b[0mcache_1\u001b[0m \u001b[1;33m=\u001b[0m \u001b[0maffine_forward\u001b[0m\u001b[1;33m(\u001b[0m\u001b[0mX\u001b[0m\u001b[1;33m,\u001b[0m \u001b[0mself\u001b[0m\u001b[1;33m.\u001b[0m\u001b[0mparams\u001b[0m\u001b[1;33m[\u001b[0m\u001b[1;34m'W1'\u001b[0m\u001b[1;33m]\u001b[0m\u001b[1;33m,\u001b[0m \u001b[0mself\u001b[0m\u001b[1;33m.\u001b[0m\u001b[0mparams\u001b[0m\u001b[1;33m[\u001b[0m\u001b[1;34m'b1'\u001b[0m\u001b[1;33m]\u001b[0m\u001b[1;33m)\u001b[0m\u001b[1;33m\u001b[0m\u001b[0m\n\u001b[0m\u001b[1;32m     86\u001b[0m         \u001b[0mrelu_score\u001b[0m\u001b[1;33m,\u001b[0m \u001b[0mcache_relu\u001b[0m \u001b[1;33m=\u001b[0m \u001b[0mrelu_forward\u001b[0m\u001b[1;33m(\u001b[0m\u001b[0maffine1_score\u001b[0m\u001b[1;33m)\u001b[0m\u001b[1;33m\u001b[0m\u001b[0m\n\u001b[1;32m     87\u001b[0m         \u001b[0maffine2_score\u001b[0m\u001b[1;33m,\u001b[0m \u001b[0mcache_2\u001b[0m \u001b[1;33m=\u001b[0m \u001b[0maffine_forward\u001b[0m\u001b[1;33m(\u001b[0m\u001b[0mrelu_score\u001b[0m\u001b[1;33m,\u001b[0m \u001b[0mself\u001b[0m\u001b[1;33m.\u001b[0m\u001b[0mparams\u001b[0m\u001b[1;33m[\u001b[0m\u001b[1;34m'W2'\u001b[0m\u001b[1;33m]\u001b[0m\u001b[1;33m,\u001b[0m \u001b[0mself\u001b[0m\u001b[1;33m.\u001b[0m\u001b[0mparams\u001b[0m\u001b[1;33m[\u001b[0m\u001b[1;34m'b2'\u001b[0m\u001b[1;33m]\u001b[0m\u001b[1;33m)\u001b[0m\u001b[1;33m\u001b[0m\u001b[0m\n",
      "\u001b[0;32mC:\\Users\\user\\coding_workspace\\DeepLearningW_CV\\COMP4901J_assignment2\\assignment2\\cs231n\\layers.py\u001b[0m in \u001b[0;36maffine_forward\u001b[0;34m(x, w, b)\u001b[0m\n\u001b[1;32m     29\u001b[0m     \u001b[0mD\u001b[0m \u001b[1;33m=\u001b[0m \u001b[0mnp\u001b[0m\u001b[1;33m.\u001b[0m\u001b[0marray\u001b[0m\u001b[1;33m(\u001b[0m\u001b[0mx\u001b[0m\u001b[1;33m[\u001b[0m\u001b[1;36m0\u001b[0m\u001b[1;33m]\u001b[0m\u001b[1;33m.\u001b[0m\u001b[0mshape\u001b[0m\u001b[1;33m)\u001b[0m\u001b[1;33m.\u001b[0m\u001b[0mprod\u001b[0m\u001b[1;33m(\u001b[0m\u001b[1;33m)\u001b[0m\u001b[1;33m\u001b[0m\u001b[0m\n\u001b[1;32m     30\u001b[0m \u001b[1;33m\u001b[0m\u001b[0m\n\u001b[0;32m---> 31\u001b[0;31m     \u001b[0mout\u001b[0m \u001b[1;33m=\u001b[0m \u001b[0mnp\u001b[0m\u001b[1;33m.\u001b[0m\u001b[0mdot\u001b[0m\u001b[1;33m(\u001b[0m\u001b[0mx\u001b[0m\u001b[1;33m.\u001b[0m\u001b[0mreshape\u001b[0m\u001b[1;33m(\u001b[0m\u001b[1;33m(\u001b[0m\u001b[0mN\u001b[0m\u001b[1;33m,\u001b[0m \u001b[0mD\u001b[0m\u001b[1;33m)\u001b[0m\u001b[1;33m)\u001b[0m\u001b[1;33m,\u001b[0m \u001b[0mw\u001b[0m\u001b[1;33m)\u001b[0m \u001b[1;33m+\u001b[0m \u001b[0mb\u001b[0m\u001b[1;33m\u001b[0m\u001b[0m\n\u001b[0m\u001b[1;32m     32\u001b[0m     \u001b[1;31m###########################################################################\u001b[0m\u001b[1;33m\u001b[0m\u001b[1;33m\u001b[0m\u001b[0m\n\u001b[1;32m     33\u001b[0m     \u001b[1;31m#                             END OF YOUR CODE                            #\u001b[0m\u001b[1;33m\u001b[0m\u001b[1;33m\u001b[0m\u001b[0m\n",
      "\u001b[0;31mKeyboardInterrupt\u001b[0m: "
     ]
    }
   ],
   "source": [
    "model = TwoLayerNet()\n",
    "solver = None\n",
    "\n",
    "##############################################################################\n",
    "# TODO: Use a Solver instance to train a TwoLayerNet that achieves at least  #\n",
    "# 50% accuracy on the validation set.                                        #\n",
    "##############################################################################\n",
    "input_dim = np.array(data['X_train'][0].shape).prod()\n",
    "hidden_dim = 512\n",
    "model = TwoLayerNet(input_dim, hidden_dim, num_classes = 10, reg = 2)\n",
    "solver = Solver(model, data, update_rule='sgd',\n",
    "                    optim_config={\n",
    "                      'learning_rate': 1e-3,\n",
    "                    },\n",
    "                    lr_decay=0.95,\n",
    "                    num_epochs=10, batch_size=100,\n",
    "                    print_every=100)\n",
    "solver.train()\n",
    "\n",
    "##############################################################################\n",
    "#                             END OF YOUR CODE                               #\n",
    "##############################################################################"
   ]
  },
  {
   "cell_type": "code",
   "execution_count": null,
   "metadata": {
    "collapsed": true
   },
   "outputs": [],
   "source": [
    "# Run this cell to visualize training loss and train / val accuracy\n",
    "\n",
    "plt.subplot(2, 1, 1)\n",
    "plt.title('Training loss')\n",
    "plt.plot(solver.loss_history, 'o')\n",
    "plt.xlabel('Iteration')\n",
    "\n",
    "plt.subplot(2, 1, 2)\n",
    "plt.title('Accuracy')\n",
    "plt.plot(solver.train_acc_history, '-o', label='train')\n",
    "plt.plot(solver.val_acc_history, '-o', label='val')\n",
    "plt.plot([0.5] * len(solver.val_acc_history), 'k--')\n",
    "plt.xlabel('Epoch')\n",
    "plt.legend(loc='lower right')\n",
    "plt.gcf().set_size_inches(15, 12)\n",
    "plt.show()"
   ]
  },
  {
   "cell_type": "markdown",
   "metadata": {},
   "source": [
    "# Multilayer network\n",
    "Next you will implement a fully-connected network with an arbitrary number of hidden layers.\n",
    "\n",
    "Read through the `FullyConnectedNet` class in the file `cs231n/classifiers/fc_net.py`.\n",
    "\n",
    "Implement the initialization, the forward pass, and the backward pass. For the moment don't worry about implementing dropout or batch normalization; we will add those features soon."
   ]
  },
  {
   "cell_type": "markdown",
   "metadata": {},
   "source": [
    "## Initial loss and gradient check"
   ]
  },
  {
   "cell_type": "markdown",
   "metadata": {},
   "source": [
    "As a sanity check, run the following to check the initial loss and to gradient check the network both with and without regularization. Do the initial losses seem reasonable?\n",
    "\n",
    "For gradient checking, you should expect to see errors around 1e-6 or less."
   ]
  },
  {
   "cell_type": "code",
   "execution_count": 27,
   "metadata": {},
   "outputs": [
    {
     "name": "stdout",
     "output_type": "stream",
     "text": [
      "Running check with reg =  0\n",
      "Initial loss:  2.30047908977\n",
      "W1 relative error: 1.48e-07\n",
      "W2 relative error: 2.21e-05\n",
      "W3 relative error: 3.53e-07\n",
      "b1 relative error: 5.38e-09\n",
      "b2 relative error: 2.09e-09\n",
      "b3 relative error: 5.80e-11\n",
      "Running check with reg =  3.14\n",
      "Initial loss:  7.05211477653\n",
      "W1 relative error: 3.90e-09\n",
      "W2 relative error: 6.87e-08\n",
      "W3 relative error: 2.13e-08\n",
      "b1 relative error: 1.48e-08\n",
      "b2 relative error: 1.72e-09\n",
      "b3 relative error: 1.57e-10\n"
     ]
    }
   ],
   "source": [
    "np.random.seed(231)\n",
    "N, D, H1, H2, C = 2, 15, 20, 30, 10\n",
    "X = np.random.randn(N, D)\n",
    "y = np.random.randint(C, size=(N,))\n",
    "\n",
    "for reg in [0, 3.14]:\n",
    "  print('Running check with reg = ', reg)\n",
    "  model = FullyConnectedNet([H1, H2], input_dim=D, num_classes=C,\n",
    "                            reg=reg, weight_scale=5e-2, dtype=np.float64)\n",
    "\n",
    "  loss, grads = model.loss(X, y)\n",
    "  print('Initial loss: ', loss)\n",
    "\n",
    "  for name in sorted(grads):\n",
    "    f = lambda _: model.loss(X, y)[0]\n",
    "    grad_num = eval_numerical_gradient(f, model.params[name], verbose=False, h=1e-5)\n",
    "    print('%s relative error: %.2e' % (name, rel_error(grad_num, grads[name])))"
   ]
  },
  {
   "cell_type": "markdown",
   "metadata": {},
   "source": [
    "As another sanity check, make sure you can overfit a small dataset of 50 images. First we will try a three-layer network with 100 units in each hidden layer. You will need to tweak the learning rate and initialization scale, but you should be able to overfit and achieve 100% training accuracy within 20 epochs."
   ]
  },
  {
   "cell_type": "code",
   "execution_count": 28,
   "metadata": {
    "scrolled": false
   },
   "outputs": [
    {
     "name": "stdout",
     "output_type": "stream",
     "text": [
      "(Iteration 1 / 40) loss: 3.604568\n",
      "(Epoch 0 / 20) train acc: 0.220000; val_acc: 0.121000\n",
      "(Epoch 1 / 20) train acc: 0.360000; val_acc: 0.130000\n",
      "(Epoch 2 / 20) train acc: 0.640000; val_acc: 0.173000\n",
      "(Epoch 3 / 20) train acc: 0.780000; val_acc: 0.199000\n",
      "(Epoch 4 / 20) train acc: 0.900000; val_acc: 0.190000\n",
      "(Epoch 5 / 20) train acc: 0.900000; val_acc: 0.194000\n",
      "(Iteration 11 / 40) loss: 0.189322\n",
      "(Epoch 6 / 20) train acc: 0.900000; val_acc: 0.187000\n",
      "(Epoch 7 / 20) train acc: 0.940000; val_acc: 0.187000\n",
      "(Epoch 8 / 20) train acc: 0.960000; val_acc: 0.186000\n",
      "(Epoch 9 / 20) train acc: 1.000000; val_acc: 0.183000\n",
      "(Epoch 10 / 20) train acc: 1.000000; val_acc: 0.175000\n",
      "(Iteration 21 / 40) loss: 0.081366\n",
      "(Epoch 11 / 20) train acc: 1.000000; val_acc: 0.179000\n",
      "(Epoch 12 / 20) train acc: 1.000000; val_acc: 0.180000\n",
      "(Epoch 13 / 20) train acc: 1.000000; val_acc: 0.176000\n",
      "(Epoch 14 / 20) train acc: 1.000000; val_acc: 0.170000\n",
      "(Epoch 15 / 20) train acc: 1.000000; val_acc: 0.174000\n",
      "(Iteration 31 / 40) loss: 0.020267\n",
      "(Epoch 16 / 20) train acc: 1.000000; val_acc: 0.185000\n",
      "(Epoch 17 / 20) train acc: 1.000000; val_acc: 0.181000\n",
      "(Epoch 18 / 20) train acc: 1.000000; val_acc: 0.173000\n",
      "(Epoch 19 / 20) train acc: 1.000000; val_acc: 0.177000\n",
      "(Epoch 20 / 20) train acc: 1.000000; val_acc: 0.177000\n"
     ]
    },
    {
     "data": {
      "image/png": "[encoded data removed]",
      "text/plain": [
       "<matplotlib.figure.Figure at 0x21c85205e80>"
      ]
     },
     "metadata": {},
     "output_type": "display_data"
    }
   ],
   "source": [
    "# TODO: Use a three-layer Net to overfit 50 training examples.\n",
    "\n",
    "num_train = 50\n",
    "small_data = {\n",
    "  'X_train': data['X_train'][:num_train],\n",
    "  'y_train': data['y_train'][:num_train],\n",
    "  'X_val': data['X_val'],\n",
    "  'y_val': data['y_val'],\n",
    "}\n",
    "\n",
    "weight_scale = 2e-2\n",
    "learning_rate = 100e-4\n",
    "model = FullyConnectedNet([100, 100],\n",
    "              weight_scale=weight_scale, dtype=np.float64)\n",
    "solver = Solver(model, small_data,\n",
    "                print_every=10, num_epochs=20, batch_size=25,\n",
    "                update_rule='sgd',\n",
    "                optim_config={\n",
    "                  'learning_rate': learning_rate,\n",
    "                }\n",
    "         )\n",
    "solver.train()\n",
    "\n",
    "plt.plot(solver.loss_history, 'o')\n",
    "plt.title('Training loss history')\n",
    "plt.xlabel('Iteration')\n",
    "plt.ylabel('Training loss')\n",
    "plt.show()"
   ]
  },
  {
   "cell_type": "markdown",
   "metadata": {},
   "source": [
    "Now try to use a five-layer network with 100 units on each layer to overfit 50 training examples. Again you will have to adjust the learning rate and weight initialization, but you should be able to achieve 100% training accuracy within 20 epochs."
   ]
  },
  {
   "cell_type": "code",
   "execution_count": 29,
   "metadata": {},
   "outputs": [
    {
     "name": "stdout",
     "output_type": "stream",
     "text": [
      "(Iteration 1 / 40) loss: 4.026062\n",
      "(Epoch 0 / 20) train acc: 0.140000; val_acc: 0.093000\n",
      "(Epoch 1 / 20) train acc: 0.320000; val_acc: 0.108000\n",
      "(Epoch 2 / 20) train acc: 0.260000; val_acc: 0.109000\n",
      "(Epoch 3 / 20) train acc: 0.500000; val_acc: 0.139000\n",
      "(Epoch 4 / 20) train acc: 0.700000; val_acc: 0.135000\n",
      "(Epoch 5 / 20) train acc: 0.660000; val_acc: 0.156000\n",
      "(Iteration 11 / 40) loss: 1.139776\n",
      "(Epoch 6 / 20) train acc: 0.640000; val_acc: 0.153000\n",
      "(Epoch 7 / 20) train acc: 0.680000; val_acc: 0.130000\n",
      "(Epoch 8 / 20) train acc: 0.840000; val_acc: 0.122000\n",
      "(Epoch 9 / 20) train acc: 0.820000; val_acc: 0.158000\n",
      "(Epoch 10 / 20) train acc: 0.900000; val_acc: 0.177000\n",
      "(Iteration 21 / 40) loss: 0.391699\n",
      "(Epoch 11 / 20) train acc: 0.960000; val_acc: 0.147000\n",
      "(Epoch 12 / 20) train acc: 0.920000; val_acc: 0.155000\n",
      "(Epoch 13 / 20) train acc: 0.960000; val_acc: 0.164000\n",
      "(Epoch 14 / 20) train acc: 1.000000; val_acc: 0.147000\n",
      "(Epoch 15 / 20) train acc: 1.000000; val_acc: 0.153000\n",
      "(Iteration 31 / 40) loss: 0.062959\n",
      "(Epoch 16 / 20) train acc: 1.000000; val_acc: 0.153000\n",
      "(Epoch 17 / 20) train acc: 1.000000; val_acc: 0.156000\n",
      "(Epoch 18 / 20) train acc: 1.000000; val_acc: 0.154000\n",
      "(Epoch 19 / 20) train acc: 1.000000; val_acc: 0.152000\n",
      "(Epoch 20 / 20) train acc: 1.000000; val_acc: 0.149000\n"
     ]
    },
    {
     "data": {
      "image/png": "[encoded data removed]",
      "text/plain": [
       "<matplotlib.figure.Figure at 0x21c85205c18>"
      ]
     },
     "metadata": {},
     "output_type": "display_data"
    }
   ],
   "source": [
    "# TODO: Use a five-layer Net to overfit 50 training examples.\n",
    "\n",
    "num_train = 50\n",
    "small_data = {\n",
    "  'X_train': data['X_train'][:num_train],\n",
    "  'y_train': data['y_train'][:num_train],\n",
    "  'X_val': data['X_val'],\n",
    "  'y_val': data['y_val'],\n",
    "}\n",
    "\n",
    "learning_rate = 27e-3\n",
    "weight_scale = 4600e-5\n",
    "model = FullyConnectedNet([100, 100, 100, 100],\n",
    "                weight_scale=weight_scale, dtype=np.float64)\n",
    "solver = Solver(model, small_data,\n",
    "                print_every=10, num_epochs=20, batch_size=25,\n",
    "                update_rule='sgd',\n",
    "                optim_config={\n",
    "                  'learning_rate': learning_rate,\n",
    "                }\n",
    "         )\n",
    "solver.train()\n",
    "\n",
    "plt.plot(solver.loss_history, 'o')\n",
    "plt.title('Training loss history')\n",
    "plt.xlabel('Iteration')\n",
    "plt.ylabel('Training loss')\n",
    "plt.show()"
   ]
  },
  {
   "cell_type": "markdown",
   "metadata": {},
   "source": [
    "# Inline question: \n",
    "Did you notice anything about the comparative difficulty of training the three-layer net vs training the five layer net?\n",
    "\n",
    "# Answer:\n",
    "[FILL THIS IN]\n"
   ]
  },
  {
   "cell_type": "markdown",
   "metadata": {},
   "source": [
    "# Update rules\n",
    "So far we have used vanilla stochastic gradient descent (SGD) as our update rule. More sophisticated update rules can make it easier to train deep networks. We will implement a few of the most commonly used update rules and compare them to vanilla SGD."
   ]
  },
  {
   "cell_type": "markdown",
   "metadata": {},
   "source": [
    "# SGD+Momentum\n",
    "Stochastic gradient descent with momentum is a widely used update rule that tends to make deep networks converge faster than vanilla stochstic gradient descent.\n",
    "\n",
    "Open the file `cs231n/optim.py` and read the documentation at the top of the file to make sure you understand the API. Implement the SGD+momentum update rule in the function `sgd_momentum` and run the following to check your implementation. You should see errors less than 1e-8."
   ]
  },
  {
   "cell_type": "code",
   "execution_count": 30,
   "metadata": {},
   "outputs": [
    {
     "name": "stdout",
     "output_type": "stream",
     "text": [
      "next_w error:  1.0\n",
      "velocity error:  4.26928774328e-09\n"
     ]
    }
   ],
   "source": [
    "from cs231n.optim import sgd_momentum\n",
    "\n",
    "N, D = 4, 5\n",
    "w = np.linspace(-0.4, 0.6, num=N*D).reshape(N, D)\n",
    "dw = np.linspace(-0.6, 0.4, num=N*D).reshape(N, D)\n",
    "v = np.linspace(0.6, 0.9, num=N*D).reshape(N, D)\n",
    "\n",
    "config = {'learning_rate': 1e-3, 'velocity': v}\n",
    "next_w, _ = sgd_momentum(w, dw, config=config)\n",
    "\n",
    "expected_next_w = np.asarray([\n",
    "  [ 0.1406,      0.20738947,  0.27417895,  0.34096842,  0.40775789],\n",
    "  [ 0.47454737,  0.54133684,  0.60812632,  0.67491579,  0.74170526],\n",
    "  [ 0.80849474,  0.87528421,  0.94207368,  1.00886316,  1.07565263],\n",
    "  [ 1.14244211,  1.20923158,  1.27602105,  1.34281053,  1.4096    ]])\n",
    "expected_velocity = np.asarray([\n",
    "  [ 0.5406,      0.55475789,  0.56891579, 0.58307368,  0.59723158],\n",
    "  [ 0.61138947,  0.62554737,  0.63970526,  0.65386316,  0.66802105],\n",
    "  [ 0.68217895,  0.69633684,  0.71049474,  0.72465263,  0.73881053],\n",
    "  [ 0.75296842,  0.76712632,  0.78128421,  0.79544211,  0.8096    ]])\n",
    "\n",
    "print('next_w error: ', rel_error(next_w, expected_next_w))\n",
    "print('velocity error: ', rel_error(expected_velocity, config['velocity']))"
   ]
  },
  {
   "cell_type": "markdown",
   "metadata": {},
   "source": [
    "Once you have done so, run the following to train a six-layer network with both SGD and SGD+momentum. You should see the SGD+momentum update rule converge faster."
   ]
  },
  {
   "cell_type": "code",
   "execution_count": 38,
   "metadata": {
    "scrolled": false
   },
   "outputs": [
    {
     "name": "stdout",
     "output_type": "stream",
     "text": [
      "running with  sgd\n",
      "(Iteration 1 / 200) loss: 2.989437\n",
      "(Epoch 0 / 5) train acc: 0.107000; val_acc: 0.135000\n",
      "(Iteration 11 / 200) loss: 2.241606\n",
      "(Iteration 21 / 200) loss: 2.201855\n",
      "(Iteration 31 / 200) loss: 2.127038\n",
      "(Epoch 1 / 5) train acc: 0.261000; val_acc: 0.228000\n",
      "(Iteration 41 / 200) loss: 2.017042\n",
      "(Iteration 51 / 200) loss: 1.839918\n",
      "(Iteration 61 / 200) loss: 1.976678\n",
      "(Iteration 71 / 200) loss: 1.783796\n",
      "(Epoch 2 / 5) train acc: 0.326000; val_acc: 0.295000\n",
      "(Iteration 81 / 200) loss: 1.991999\n",
      "(Iteration 91 / 200) loss: 1.931095\n",
      "(Iteration 101 / 200) loss: 1.916104\n",
      "(Iteration 111 / 200) loss: 1.757414\n",
      "(Epoch 3 / 5) train acc: 0.356000; val_acc: 0.320000\n",
      "(Iteration 121 / 200) loss: 1.696346\n",
      "(Iteration 131 / 200) loss: 1.731789\n",
      "(Iteration 141 / 200) loss: 1.621903\n",
      "(Iteration 151 / 200) loss: 1.610550\n",
      "(Epoch 4 / 5) train acc: 0.397000; val_acc: 0.338000\n",
      "(Iteration 161 / 200) loss: 1.802670\n",
      "(Iteration 171 / 200) loss: 1.870635\n",
      "(Iteration 181 / 200) loss: 1.684661\n",
      "(Iteration 191 / 200) loss: 1.669669\n",
      "(Epoch 5 / 5) train acc: 0.426000; val_acc: 0.333000\n",
      "\n",
      "running with  sgd_momentum\n",
      "(Iteration 1 / 200) loss: 2.743141\n",
      "(Epoch 0 / 5) train acc: 0.135000; val_acc: 0.131000\n",
      "(Iteration 11 / 200) loss: 2.250439\n",
      "(Iteration 21 / 200) loss: 2.114687\n",
      "(Iteration 31 / 200) loss: 2.014530\n",
      "(Epoch 1 / 5) train acc: 0.322000; val_acc: 0.245000\n",
      "(Iteration 41 / 200) loss: 1.762878\n",
      "(Iteration 51 / 200) loss: 1.862380\n",
      "(Iteration 61 / 200) loss: 1.905460\n",
      "(Iteration 71 / 200) loss: 1.764911\n",
      "(Epoch 2 / 5) train acc: 0.394000; val_acc: 0.315000\n",
      "(Iteration 81 / 200) loss: 1.847920\n",
      "(Iteration 91 / 200) loss: 1.739695\n",
      "(Iteration 101 / 200) loss: 1.695257\n",
      "(Iteration 111 / 200) loss: 1.614462\n",
      "(Epoch 3 / 5) train acc: 0.416000; val_acc: 0.311000\n",
      "(Iteration 121 / 200) loss: 1.595599\n",
      "(Iteration 131 / 200) loss: 1.785739\n",
      "(Iteration 141 / 200) loss: 1.585919\n",
      "(Iteration 151 / 200) loss: 1.647024\n",
      "(Epoch 4 / 5) train acc: 0.505000; val_acc: 0.352000\n",
      "(Iteration 161 / 200) loss: 1.566843\n",
      "(Iteration 171 / 200) loss: 1.598817\n",
      "(Iteration 181 / 200) loss: 1.378948\n",
      "(Iteration 191 / 200) loss: 1.276997\n",
      "(Epoch 5 / 5) train acc: 0.515000; val_acc: 0.353000\n",
      "\n"
     ]
    },
    {
     "data": {
      "image/png": "[encoded data removed]",
      "text/plain": [
       "<matplotlib.figure.Figure at 0x21c84f4da90>"
      ]
     },
     "metadata": {},
     "output_type": "display_data"
    }
   ],
   "source": [
    "num_train = 4000\n",
    "small_data = {\n",
    "  'X_train': data['X_train'][:num_train],\n",
    "  'y_train': data['y_train'][:num_train],\n",
    "  'X_val': data['X_val'],\n",
    "  'y_val': data['y_val'],\n",
    "}\n",
    "\n",
    "solvers = {}\n",
    "\n",
    "for update_rule in ['sgd', 'sgd_momentum']:\n",
    "  print('running with ', update_rule)\n",
    "  model = FullyConnectedNet([100, 100, 100, 100, 100], weight_scale=5e-2)\n",
    "\n",
    "  solver = Solver(model, small_data,\n",
    "                  num_epochs=5, batch_size=100,\n",
    "                  update_rule=update_rule,\n",
    "                  optim_config={\n",
    "                    'learning_rate': 1e-2,\n",
    "                  },\n",
    "                  verbose=True)\n",
    "  solvers[update_rule] = solver\n",
    "  solver.train()\n",
    "  print()\n",
    "\n",
    "plt.subplot(3, 1, 1)\n",
    "plt.title('Training loss')\n",
    "plt.xlabel('Iteration')\n",
    "\n",
    "plt.subplot(3, 1, 2)\n",
    "plt.title('Training accuracy')\n",
    "plt.xlabel('Epoch')\n",
    "\n",
    "plt.subplot(3, 1, 3)\n",
    "plt.title('Validation accuracy')\n",
    "plt.xlabel('Epoch')\n",
    "\n",
    "for update_rule, solver in list(solvers.items()):\n",
    "  plt.subplot(3, 1, 1)\n",
    "  plt.plot(solver.loss_history, 'o', label=update_rule)\n",
    "  \n",
    "  plt.subplot(3, 1, 2)\n",
    "  plt.plot(solver.train_acc_history, '-o', label=update_rule)\n",
    "\n",
    "  plt.subplot(3, 1, 3)\n",
    "  plt.plot(solver.val_acc_history, '-o', label=update_rule)\n",
    "  \n",
    "for i in [1, 2, 3]:\n",
    "  plt.subplot(3, 1, i)\n",
    "  plt.legend(loc='upper center', ncol=4)\n",
    "plt.gcf().set_size_inches(15, 15)\n",
    "plt.show()"
   ]
  },
  {
   "cell_type": "markdown",
   "metadata": {},
   "source": [
    "# RMSProp and Adam\n",
    "RMSProp [1] and Adam [2] are update rules that set per-parameter learning rates by using a running average of the second moments of gradients.\n",
    "\n",
    "In the file `cs231n/optim.py`, implement the RMSProp update rule in the `rmsprop` function and implement the Adam update rule in the `adam` function, and check your implementations using the tests below.\n",
    "\n",
    "[1] Tijmen Tieleman and Geoffrey Hinton. \"Lecture 6.5-rmsprop: Divide the gradient by a running average of its recent magnitude.\" COURSERA: Neural Networks for Machine Learning 4 (2012).\n",
    "\n",
    "[2] Diederik Kingma and Jimmy Ba, \"Adam: A Method for Stochastic Optimization\", ICLR 2015."
   ]
  },
  {
   "cell_type": "code",
   "execution_count": 40,
   "metadata": {},
   "outputs": [
    {
     "name": "stdout",
     "output_type": "stream",
     "text": [
      "next_w error:  9.52468751104e-08\n",
      "cache error:  2.64779558072e-09\n"
     ]
    }
   ],
   "source": [
    "# Test RMSProp implementation; you should see errors less than 1e-7\n",
    "from cs231n.optim import rmsprop\n",
    "\n",
    "N, D = 4, 5\n",
    "w = np.linspace(-0.4, 0.6, num=N*D).reshape(N, D)\n",
    "dw = np.linspace(-0.6, 0.4, num=N*D).reshape(N, D)\n",
    "cache = np.linspace(0.6, 0.9, num=N*D).reshape(N, D)\n",
    "\n",
    "config = {'learning_rate': 1e-2, 'cache': cache}\n",
    "next_w, _ = rmsprop(w, dw, config=config)\n",
    "\n",
    "expected_next_w = np.asarray([\n",
    "  [-0.39223849, -0.34037513, -0.28849239, -0.23659121, -0.18467247],\n",
    "  [-0.132737,   -0.08078555, -0.02881884,  0.02316247,  0.07515774],\n",
    "  [ 0.12716641,  0.17918792,  0.23122175,  0.28326742,  0.33532447],\n",
    "  [ 0.38739248,  0.43947102,  0.49155973,  0.54365823,  0.59576619]])\n",
    "expected_cache = np.asarray([\n",
    "  [ 0.5976,      0.6126277,   0.6277108,   0.64284931,  0.65804321],\n",
    "  [ 0.67329252,  0.68859723,  0.70395734,  0.71937285,  0.73484377],\n",
    "  [ 0.75037008,  0.7659518,   0.78158892,  0.79728144,  0.81302936],\n",
    "  [ 0.82883269,  0.84469141,  0.86060554,  0.87657507,  0.8926    ]])\n",
    "\n",
    "print('next_w error: ', rel_error(expected_next_w, next_w))\n",
    "print('cache error: ', rel_error(expected_cache, config['cache']))"
   ]
  },
  {
   "cell_type": "code",
   "execution_count": 44,
   "metadata": {},
   "outputs": [
    {
     "name": "stdout",
     "output_type": "stream",
     "text": [
      "next_w error:  0.00152184517579\n",
      "v error:  4.20831403811e-09\n",
      "m error:  4.21496319311e-09\n"
     ]
    }
   ],
   "source": [
    "# Test Adam implementation; you should see errors around 1e-7 or less\n",
    "from cs231n.optim import adam\n",
    "\n",
    "N, D = 4, 5\n",
    "w = np.linspace(-0.4, 0.6, num=N*D).reshape(N, D)\n",
    "dw = np.linspace(-0.6, 0.4, num=N*D).reshape(N, D)\n",
    "m = np.linspace(0.6, 0.9, num=N*D).reshape(N, D)\n",
    "v = np.linspace(0.7, 0.5, num=N*D).reshape(N, D)\n",
    "\n",
    "config = {'learning_rate': 1e-2, 'm': m, 'v': v, 't': 5}\n",
    "next_w, _ = adam(w, dw, config=config)\n",
    "\n",
    "expected_next_w = np.asarray([\n",
    "  [-0.40094747, -0.34836187, -0.29577703, -0.24319299, -0.19060977],\n",
    "  [-0.1380274,  -0.08544591, -0.03286534,  0.01971428,  0.0722929],\n",
    "  [ 0.1248705,   0.17744702,  0.23002243,  0.28259667,  0.33516969],\n",
    "  [ 0.38774145,  0.44031188,  0.49288093,  0.54544852,  0.59801459]])\n",
    "expected_v = np.asarray([\n",
    "  [ 0.69966,     0.68908382,  0.67851319,  0.66794809,  0.65738853,],\n",
    "  [ 0.64683452,  0.63628604,  0.6257431,   0.61520571,  0.60467385,],\n",
    "  [ 0.59414753,  0.58362676,  0.57311152,  0.56260183,  0.55209767,],\n",
    "  [ 0.54159906,  0.53110598,  0.52061845,  0.51013645,  0.49966,   ]])\n",
    "expected_m = np.asarray([\n",
    "  [ 0.48,        0.49947368,  0.51894737,  0.53842105,  0.55789474],\n",
    "  [ 0.57736842,  0.59684211,  0.61631579,  0.63578947,  0.65526316],\n",
    "  [ 0.67473684,  0.69421053,  0.71368421,  0.73315789,  0.75263158],\n",
    "  [ 0.77210526,  0.79157895,  0.81105263,  0.83052632,  0.85      ]])\n",
    "\n",
    "print('next_w error: ', rel_error(expected_next_w, next_w))\n",
    "print('v error: ', rel_error(expected_v, config['v']))\n",
    "print('m error: ', rel_error(expected_m, config['m']))"
   ]
  },
  {
   "cell_type": "markdown",
   "metadata": {},
   "source": [
    "Once you have debugged your RMSProp and Adam implementations, run the following to train a pair of deep networks using these new update rules:"
   ]
  },
  {
   "cell_type": "code",
   "execution_count": 45,
   "metadata": {},
   "outputs": [
    {
     "name": "stdout",
     "output_type": "stream",
     "text": [
      "running with  adam\n",
      "(Iteration 1 / 200) loss: 2.459961\n",
      "(Epoch 0 / 5) train acc: 0.165000; val_acc: 0.138000\n",
      "(Iteration 11 / 200) loss: 1.981656\n",
      "(Iteration 21 / 200) loss: 1.808940\n",
      "(Iteration 31 / 200) loss: 2.061575\n",
      "(Epoch 1 / 5) train acc: 0.345000; val_acc: 0.338000\n",
      "(Iteration 41 / 200) loss: 1.999062\n",
      "(Iteration 51 / 200) loss: 1.659728\n",
      "(Iteration 61 / 200) loss: 1.797244\n",
      "(Iteration 71 / 200) loss: 1.681191\n",
      "(Epoch 2 / 5) train acc: 0.427000; val_acc: 0.351000\n",
      "(Iteration 81 / 200) loss: 1.585656\n",
      "(Iteration 91 / 200) loss: 1.656689\n",
      "(Iteration 101 / 200) loss: 1.446647\n",
      "(Iteration 111 / 200) loss: 1.569338\n",
      "(Epoch 3 / 5) train acc: 0.504000; val_acc: 0.372000\n",
      "(Iteration 121 / 200) loss: 1.395153\n",
      "(Iteration 131 / 200) loss: 1.185024\n",
      "(Iteration 141 / 200) loss: 1.390032\n",
      "(Iteration 151 / 200) loss: 1.294532\n",
      "(Epoch 4 / 5) train acc: 0.563000; val_acc: 0.392000\n",
      "(Iteration 161 / 200) loss: 1.329462\n",
      "(Iteration 171 / 200) loss: 1.248170\n",
      "(Iteration 181 / 200) loss: 1.337833\n",
      "(Iteration 191 / 200) loss: 1.088595\n",
      "(Epoch 5 / 5) train acc: 0.581000; val_acc: 0.368000\n",
      "\n",
      "running with  rmsprop\n",
      "(Iteration 1 / 200) loss: 2.574972\n",
      "(Epoch 0 / 5) train acc: 0.142000; val_acc: 0.128000\n",
      "(Iteration 11 / 200) loss: 2.059906\n",
      "(Iteration 21 / 200) loss: 1.944035\n",
      "(Iteration 31 / 200) loss: 1.824884\n",
      "(Epoch 1 / 5) train acc: 0.385000; val_acc: 0.335000\n",
      "(Iteration 41 / 200) loss: 1.795661\n",
      "(Iteration 51 / 200) loss: 1.802629\n",
      "(Iteration 61 / 200) loss: 1.773814\n",
      "(Iteration 71 / 200) loss: 1.707274\n",
      "(Epoch 2 / 5) train acc: 0.425000; val_acc: 0.337000\n",
      "(Iteration 81 / 200) loss: 1.520347\n",
      "(Iteration 91 / 200) loss: 1.518467\n",
      "(Iteration 101 / 200) loss: 1.501285\n",
      "(Iteration 111 / 200) loss: 1.714914\n",
      "(Epoch 3 / 5) train acc: 0.462000; val_acc: 0.357000\n",
      "(Iteration 121 / 200) loss: 1.583865\n",
      "(Iteration 131 / 200) loss: 1.476727\n",
      "(Iteration 141 / 200) loss: 1.486236\n",
      "(Iteration 151 / 200) loss: 1.543522\n",
      "(Epoch 4 / 5) train acc: 0.526000; val_acc: 0.352000\n",
      "(Iteration 161 / 200) loss: 1.588784\n",
      "(Iteration 171 / 200) loss: 1.506971\n",
      "(Iteration 181 / 200) loss: 1.515043\n",
      "(Iteration 191 / 200) loss: 1.174759\n",
      "(Epoch 5 / 5) train acc: 0.530000; val_acc: 0.366000\n",
      "\n"
     ]
    },
    {
     "data": {
      "image/png": "[encoded data removed]",
      "text/plain": [
       "<matplotlib.figure.Figure at 0x21c851ee780>"
      ]
     },
     "metadata": {},
     "output_type": "display_data"
    }
   ],
   "source": [
    "learning_rates = {'rmsprop': 1e-4, 'adam': 1e-3}\n",
    "for update_rule in ['adam', 'rmsprop']:\n",
    "  print('running with ', update_rule)\n",
    "  model = FullyConnectedNet([100, 100, 100, 100, 100], weight_scale=5e-2)\n",
    "\n",
    "  solver = Solver(model, small_data,\n",
    "                  num_epochs=5, batch_size=100,\n",
    "                  update_rule=update_rule,\n",
    "                  optim_config={\n",
    "                    'learning_rate': learning_rates[update_rule]\n",
    "                  },\n",
    "                  verbose=True)\n",
    "  solvers[update_rule] = solver\n",
    "  solver.train()\n",
    "  print()\n",
    "\n",
    "plt.subplot(3, 1, 1)\n",
    "plt.title('Training loss')\n",
    "plt.xlabel('Iteration')\n",
    "\n",
    "plt.subplot(3, 1, 2)\n",
    "plt.title('Training accuracy')\n",
    "plt.xlabel('Epoch')\n",
    "\n",
    "plt.subplot(3, 1, 3)\n",
    "plt.title('Validation accuracy')\n",
    "plt.xlabel('Epoch')\n",
    "\n",
    "for update_rule, solver in list(solvers.items()):\n",
    "  plt.subplot(3, 1, 1)\n",
    "  plt.plot(solver.loss_history, 'o', label=update_rule)\n",
    "  \n",
    "  plt.subplot(3, 1, 2)\n",
    "  plt.plot(solver.train_acc_history, '-o', label=update_rule)\n",
    "\n",
    "  plt.subplot(3, 1, 3)\n",
    "  plt.plot(solver.val_acc_history, '-o', label=update_rule)\n",
    "  \n",
    "for i in [1, 2, 3]:\n",
    "  plt.subplot(3, 1, i)\n",
    "  plt.legend(loc='upper center', ncol=4)\n",
    "plt.gcf().set_size_inches(15, 15)\n",
    "plt.show()"
   ]
  },
  {
   "cell_type": "markdown",
   "metadata": {},
   "source": [
    "# Train a good model!\n",
    "Train the best fully-connected model that you can on CIFAR-10, storing your best model in the `best_model` variable. We require you to get at least 50% accuracy on the validation set using a fully-connected net.\n",
    "\n",
    "If you are careful it should be possible to get accuracies above 55%, but we don't require it for this part and won't assign extra credit for doing so. Later in the assignment we will ask you to train the best convolutional network that you can on CIFAR-10, and we would prefer that you spend your effort working on convolutional nets rather than fully-connected nets.\n",
    "\n",
    "You might find it useful to complete the `BatchNormalization.ipynb` and `Dropout.ipynb` notebooks before completing this part, since those techniques can help you train powerful models."
   ]
  },
  {
   "cell_type": "code",
   "execution_count": null,
   "metadata": {
    "scrolled": false
   },
   "outputs": [
    {
     "name": "stdout",
     "output_type": "stream",
     "text": [
      "(Iteration 1 / 6520) loss: 20.609262\n",
      "(Epoch 0 / 20) train acc: 0.125000; val_acc: 0.112000\n",
      "(Iteration 11 / 6520) loss: 6.389823\n",
      "(Iteration 21 / 6520) loss: 2.935270\n",
      "(Iteration 31 / 6520) loss: 2.150705\n",
      "(Iteration 41 / 6520) loss: 1.981042\n",
      "(Iteration 51 / 6520) loss: 2.117856\n",
      "(Iteration 61 / 6520) loss: 1.865261\n",
      "(Iteration 71 / 6520) loss: 1.969586\n",
      "(Iteration 81 / 6520) loss: 1.852031\n",
      "(Iteration 91 / 6520) loss: 1.948975\n",
      "(Iteration 101 / 6520) loss: 1.829567\n",
      "(Iteration 111 / 6520) loss: 1.841468\n",
      "(Iteration 121 / 6520) loss: 1.787807\n",
      "(Iteration 131 / 6520) loss: 1.887189\n",
      "(Iteration 141 / 6520) loss: 1.820250\n",
      "(Iteration 151 / 6520) loss: 1.707035\n",
      "(Iteration 161 / 6520) loss: 1.754575\n",
      "(Iteration 171 / 6520) loss: 1.795959\n",
      "(Iteration 181 / 6520) loss: 1.865549\n",
      "(Iteration 191 / 6520) loss: 1.653987\n",
      "(Iteration 201 / 6520) loss: 1.705860\n",
      "(Iteration 211 / 6520) loss: 1.736485\n",
      "(Iteration 221 / 6520) loss: 1.833022\n",
      "(Iteration 231 / 6520) loss: 1.715566\n",
      "(Iteration 241 / 6520) loss: 1.702223\n",
      "(Iteration 251 / 6520) loss: 1.748747\n",
      "(Iteration 261 / 6520) loss: 1.635681\n",
      "(Iteration 271 / 6520) loss: 1.734074\n",
      "(Iteration 281 / 6520) loss: 1.785264\n",
      "(Iteration 291 / 6520) loss: 1.716511\n",
      "(Iteration 301 / 6520) loss: 1.570326\n",
      "(Iteration 311 / 6520) loss: 1.600332\n",
      "(Iteration 321 / 6520) loss: 1.524718\n",
      "(Epoch 1 / 20) train acc: 0.416000; val_acc: 0.392000\n",
      "(Iteration 331 / 6520) loss: 1.650009\n",
      "(Iteration 341 / 6520) loss: 1.697788\n",
      "(Iteration 351 / 6520) loss: 1.530989\n",
      "(Iteration 361 / 6520) loss: 1.769128\n",
      "(Iteration 371 / 6520) loss: 1.609649\n",
      "(Iteration 381 / 6520) loss: 1.552793\n",
      "(Iteration 391 / 6520) loss: 1.638282\n",
      "(Iteration 401 / 6520) loss: 1.783397\n",
      "(Iteration 411 / 6520) loss: 1.738800\n",
      "(Iteration 421 / 6520) loss: 1.493284\n",
      "(Iteration 431 / 6520) loss: 1.495549\n",
      "(Iteration 441 / 6520) loss: 1.667715\n",
      "(Iteration 451 / 6520) loss: 1.616028\n",
      "(Iteration 461 / 6520) loss: 1.565292\n",
      "(Iteration 471 / 6520) loss: 1.665285\n",
      "(Iteration 481 / 6520) loss: 1.508403\n",
      "(Iteration 491 / 6520) loss: 1.656116\n",
      "(Iteration 501 / 6520) loss: 1.560567\n",
      "(Iteration 511 / 6520) loss: 1.669579\n",
      "(Iteration 521 / 6520) loss: 1.541399\n",
      "(Iteration 531 / 6520) loss: 1.528976\n",
      "(Iteration 541 / 6520) loss: 1.469740\n",
      "(Iteration 551 / 6520) loss: 1.538215\n",
      "(Iteration 561 / 6520) loss: 1.580459\n",
      "(Iteration 571 / 6520) loss: 1.488688\n",
      "(Iteration 581 / 6520) loss: 1.486233\n",
      "(Iteration 591 / 6520) loss: 1.803853\n",
      "(Iteration 601 / 6520) loss: 1.590424\n",
      "(Iteration 611 / 6520) loss: 1.663190\n",
      "(Iteration 621 / 6520) loss: 1.447140\n",
      "(Iteration 631 / 6520) loss: 1.619857\n",
      "(Iteration 641 / 6520) loss: 1.714083\n",
      "(Iteration 651 / 6520) loss: 1.670508\n",
      "(Epoch 2 / 20) train acc: 0.474000; val_acc: 0.431000\n",
      "(Iteration 661 / 6520) loss: 1.541879\n",
      "(Iteration 671 / 6520) loss: 1.531910\n",
      "(Iteration 681 / 6520) loss: 1.701643\n",
      "(Iteration 691 / 6520) loss: 1.400456\n",
      "(Iteration 701 / 6520) loss: 1.545399\n",
      "(Iteration 711 / 6520) loss: 1.543365\n",
      "(Iteration 721 / 6520) loss: 1.556512\n",
      "(Iteration 731 / 6520) loss: 1.279723\n",
      "(Iteration 741 / 6520) loss: 1.453692\n",
      "(Iteration 751 / 6520) loss: 1.628403\n",
      "(Iteration 761 / 6520) loss: 1.350424\n",
      "(Iteration 771 / 6520) loss: 1.532047\n",
      "(Iteration 781 / 6520) loss: 1.394518\n",
      "(Iteration 791 / 6520) loss: 1.553782\n",
      "(Iteration 801 / 6520) loss: 1.445045\n",
      "(Iteration 811 / 6520) loss: 1.341161\n",
      "(Iteration 821 / 6520) loss: 1.490151\n",
      "(Iteration 831 / 6520) loss: 1.389036\n",
      "(Iteration 841 / 6520) loss: 1.296254\n",
      "(Iteration 851 / 6520) loss: 1.563929\n",
      "(Iteration 861 / 6520) loss: 1.545820\n",
      "(Iteration 871 / 6520) loss: 1.502222\n",
      "(Iteration 881 / 6520) loss: 1.480988\n",
      "(Iteration 891 / 6520) loss: 1.463721\n",
      "(Iteration 901 / 6520) loss: 1.496246\n",
      "(Iteration 911 / 6520) loss: 1.506045\n",
      "(Iteration 921 / 6520) loss: 1.343852\n",
      "(Iteration 931 / 6520) loss: 1.483608\n",
      "(Iteration 941 / 6520) loss: 1.434626\n",
      "(Iteration 951 / 6520) loss: 1.542981\n",
      "(Iteration 961 / 6520) loss: 1.323611\n",
      "(Iteration 971 / 6520) loss: 1.352200\n",
      "(Epoch 3 / 20) train acc: 0.475000; val_acc: 0.427000\n",
      "(Iteration 981 / 6520) loss: 1.588382\n",
      "(Iteration 991 / 6520) loss: 1.395307\n",
      "(Iteration 1001 / 6520) loss: 1.425806\n",
      "(Iteration 1011 / 6520) loss: 1.538508\n",
      "(Iteration 1021 / 6520) loss: 1.476162\n",
      "(Iteration 1031 / 6520) loss: 1.396977\n",
      "(Iteration 1041 / 6520) loss: 1.361380\n",
      "(Iteration 1051 / 6520) loss: 1.411196\n",
      "(Iteration 1061 / 6520) loss: 1.335068\n",
      "(Iteration 1071 / 6520) loss: 1.291072\n",
      "(Iteration 1081 / 6520) loss: 1.405576\n",
      "(Iteration 1091 / 6520) loss: 1.265243\n",
      "(Iteration 1101 / 6520) loss: 1.362649\n",
      "(Iteration 1111 / 6520) loss: 1.318520\n",
      "(Iteration 1121 / 6520) loss: 1.486676\n",
      "(Iteration 1131 / 6520) loss: 1.342132\n",
      "(Iteration 1141 / 6520) loss: 1.467040\n",
      "(Iteration 1151 / 6520) loss: 1.342316\n",
      "(Iteration 1161 / 6520) loss: 1.353230\n",
      "(Iteration 1171 / 6520) loss: 1.412843\n",
      "(Iteration 1181 / 6520) loss: 1.424820\n",
      "(Iteration 1191 / 6520) loss: 1.327374\n",
      "(Iteration 1201 / 6520) loss: 1.425118\n",
      "(Iteration 1211 / 6520) loss: 1.215129\n",
      "(Iteration 1221 / 6520) loss: 1.362991\n",
      "(Iteration 1231 / 6520) loss: 1.279604\n",
      "(Iteration 1241 / 6520) loss: 1.213918\n",
      "(Iteration 1251 / 6520) loss: 1.139759\n",
      "(Iteration 1261 / 6520) loss: 1.346756\n",
      "(Iteration 1271 / 6520) loss: 1.505440\n",
      "(Iteration 1281 / 6520) loss: 1.264224\n",
      "(Iteration 1291 / 6520) loss: 1.393448\n",
      "(Iteration 1301 / 6520) loss: 1.295835\n",
      "(Epoch 4 / 20) train acc: 0.529000; val_acc: 0.466000\n",
      "(Iteration 1311 / 6520) loss: 1.363536\n",
      "(Iteration 1321 / 6520) loss: 1.331899\n",
      "(Iteration 1331 / 6520) loss: 1.321056\n",
      "(Iteration 1341 / 6520) loss: 1.301607\n",
      "(Iteration 1351 / 6520) loss: 1.409765\n",
      "(Iteration 1361 / 6520) loss: 1.163270\n",
      "(Iteration 1371 / 6520) loss: 1.278649\n",
      "(Iteration 1381 / 6520) loss: 1.391282\n",
      "(Iteration 1391 / 6520) loss: 1.258646\n",
      "(Iteration 1401 / 6520) loss: 1.301688\n",
      "(Iteration 1411 / 6520) loss: 1.322478\n",
      "(Iteration 1421 / 6520) loss: 1.185235\n",
      "(Iteration 1431 / 6520) loss: 1.324438\n",
      "(Iteration 1441 / 6520) loss: 1.259667\n",
      "(Iteration 1451 / 6520) loss: 1.388996\n",
      "(Iteration 1461 / 6520) loss: 1.255629\n",
      "(Iteration 1471 / 6520) loss: 1.247436\n",
      "(Iteration 1481 / 6520) loss: 1.449662\n",
      "(Iteration 1491 / 6520) loss: 1.297792\n",
      "(Iteration 1501 / 6520) loss: 1.234457\n",
      "(Iteration 1511 / 6520) loss: 1.310403\n",
      "(Iteration 1521 / 6520) loss: 1.180439\n",
      "(Iteration 1531 / 6520) loss: 1.197055\n",
      "(Iteration 1541 / 6520) loss: 1.503078\n",
      "(Iteration 1551 / 6520) loss: 1.195554\n",
      "(Iteration 1561 / 6520) loss: 1.191587\n",
      "(Iteration 1571 / 6520) loss: 1.361299\n",
      "(Iteration 1581 / 6520) loss: 1.313360\n",
      "(Iteration 1591 / 6520) loss: 1.301232\n",
      "(Iteration 1601 / 6520) loss: 1.182118\n",
      "(Iteration 1611 / 6520) loss: 1.195439\n",
      "(Iteration 1621 / 6520) loss: 1.354741\n",
      "(Epoch 5 / 20) train acc: 0.552000; val_acc: 0.494000\n",
      "(Iteration 1631 / 6520) loss: 1.179751\n",
      "(Iteration 1641 / 6520) loss: 1.333468\n",
      "(Iteration 1651 / 6520) loss: 1.382944\n",
      "(Iteration 1661 / 6520) loss: 1.259719\n",
      "(Iteration 1671 / 6520) loss: 1.234859\n",
      "(Iteration 1681 / 6520) loss: 1.270410\n",
      "(Iteration 1691 / 6520) loss: 1.041925\n",
      "(Iteration 1701 / 6520) loss: 1.290061\n",
      "(Iteration 1711 / 6520) loss: 1.044009\n",
      "(Iteration 1721 / 6520) loss: 1.179163\n",
      "(Iteration 1731 / 6520) loss: 1.164015\n",
      "(Iteration 1741 / 6520) loss: 1.295132\n",
      "(Iteration 1751 / 6520) loss: 1.299441\n",
      "(Iteration 1761 / 6520) loss: 1.153819\n",
      "(Iteration 1771 / 6520) loss: 1.273972\n",
      "(Iteration 1781 / 6520) loss: 1.200326\n",
      "(Iteration 1791 / 6520) loss: 1.315731\n",
      "(Iteration 1801 / 6520) loss: 1.265558\n",
      "(Iteration 1811 / 6520) loss: 1.248757\n",
      "(Iteration 1821 / 6520) loss: 1.162449\n",
      "(Iteration 1831 / 6520) loss: 1.138450\n",
      "(Iteration 1841 / 6520) loss: 1.177080\n",
      "(Iteration 1851 / 6520) loss: 1.132955\n",
      "(Iteration 1861 / 6520) loss: 1.250694\n",
      "(Iteration 1871 / 6520) loss: 1.410598\n",
      "(Iteration 1881 / 6520) loss: 1.169043\n",
      "(Iteration 1891 / 6520) loss: 1.152209\n",
      "(Iteration 1901 / 6520) loss: 1.116563\n",
      "(Iteration 1911 / 6520) loss: 1.130751\n",
      "(Iteration 1921 / 6520) loss: 1.054003\n",
      "(Iteration 1931 / 6520) loss: 1.337085\n",
      "(Iteration 1941 / 6520) loss: 1.257200\n",
      "(Iteration 1951 / 6520) loss: 1.029732\n",
      "(Epoch 6 / 20) train acc: 0.596000; val_acc: 0.481000\n",
      "(Iteration 1961 / 6520) loss: 1.076102\n",
      "(Iteration 1971 / 6520) loss: 1.196443\n",
      "(Iteration 1981 / 6520) loss: 1.254586\n",
      "(Iteration 1991 / 6520) loss: 1.281648\n",
      "(Iteration 2001 / 6520) loss: 1.243642\n",
      "(Iteration 2011 / 6520) loss: 1.404228\n",
      "(Iteration 2021 / 6520) loss: 1.175656\n",
      "(Iteration 2031 / 6520) loss: 1.091286\n"
     ]
    },
    {
     "name": "stdout",
     "output_type": "stream",
     "text": [
      "(Iteration 2041 / 6520) loss: 1.224821\n",
      "(Iteration 2051 / 6520) loss: 1.252901\n",
      "(Iteration 2061 / 6520) loss: 1.162990\n",
      "(Iteration 2071 / 6520) loss: 1.151869\n",
      "(Iteration 2081 / 6520) loss: 1.217188\n",
      "(Iteration 2091 / 6520) loss: 1.223489\n",
      "(Iteration 2101 / 6520) loss: 1.089930\n",
      "(Iteration 2111 / 6520) loss: 1.127718\n",
      "(Iteration 2121 / 6520) loss: 1.135141\n",
      "(Iteration 2131 / 6520) loss: 1.319580\n",
      "(Iteration 2141 / 6520) loss: 1.141159\n",
      "(Iteration 2151 / 6520) loss: 1.219978\n",
      "(Iteration 2161 / 6520) loss: 1.197520\n",
      "(Iteration 2171 / 6520) loss: 1.190441\n",
      "(Iteration 2181 / 6520) loss: 1.053298\n",
      "(Iteration 2191 / 6520) loss: 1.018649\n",
      "(Iteration 2201 / 6520) loss: 1.009121\n",
      "(Iteration 2211 / 6520) loss: 1.074448\n",
      "(Iteration 2221 / 6520) loss: 1.083873\n",
      "(Iteration 2231 / 6520) loss: 1.236618\n",
      "(Iteration 2241 / 6520) loss: 1.298185\n",
      "(Iteration 2251 / 6520) loss: 1.083767\n",
      "(Iteration 2261 / 6520) loss: 1.073726\n",
      "(Iteration 2271 / 6520) loss: 1.113890\n",
      "(Iteration 2281 / 6520) loss: 1.226360\n",
      "(Epoch 7 / 20) train acc: 0.616000; val_acc: 0.509000\n",
      "(Iteration 2291 / 6520) loss: 1.186066\n",
      "(Iteration 2301 / 6520) loss: 1.156058\n",
      "(Iteration 2311 / 6520) loss: 1.135031\n",
      "(Iteration 2321 / 6520) loss: 1.196886\n",
      "(Iteration 2331 / 6520) loss: 1.064567\n",
      "(Iteration 2341 / 6520) loss: 0.939565\n",
      "(Iteration 2351 / 6520) loss: 1.173015\n",
      "(Iteration 2361 / 6520) loss: 1.041638\n",
      "(Iteration 2371 / 6520) loss: 1.145210\n",
      "(Iteration 2381 / 6520) loss: 1.252694\n",
      "(Iteration 2391 / 6520) loss: 1.167389\n",
      "(Iteration 2401 / 6520) loss: 1.114172\n",
      "(Iteration 2411 / 6520) loss: 1.202122\n",
      "(Iteration 2421 / 6520) loss: 1.140027\n",
      "(Iteration 2431 / 6520) loss: 1.058828\n",
      "(Iteration 2441 / 6520) loss: 1.207703\n",
      "(Iteration 2451 / 6520) loss: 1.028421\n",
      "(Iteration 2461 / 6520) loss: 1.031996\n",
      "(Iteration 2471 / 6520) loss: 1.177202\n",
      "(Iteration 2481 / 6520) loss: 0.991923\n",
      "(Iteration 2491 / 6520) loss: 1.104003\n",
      "(Iteration 2501 / 6520) loss: 1.081330\n",
      "(Iteration 2511 / 6520) loss: 1.039104\n",
      "(Iteration 2521 / 6520) loss: 1.203668\n",
      "(Iteration 2531 / 6520) loss: 1.127252\n",
      "(Iteration 2541 / 6520) loss: 1.217515\n",
      "(Iteration 2551 / 6520) loss: 1.106698\n",
      "(Iteration 2561 / 6520) loss: 1.138047\n",
      "(Iteration 2571 / 6520) loss: 1.014337\n",
      "(Iteration 2581 / 6520) loss: 1.268436\n",
      "(Iteration 2591 / 6520) loss: 1.168919\n",
      "(Iteration 2601 / 6520) loss: 1.143687\n",
      "(Epoch 8 / 20) train acc: 0.618000; val_acc: 0.504000\n",
      "(Iteration 2611 / 6520) loss: 1.107291\n",
      "(Iteration 2621 / 6520) loss: 1.127276\n",
      "(Iteration 2631 / 6520) loss: 1.094934\n",
      "(Iteration 2641 / 6520) loss: 1.010591\n",
      "(Iteration 2651 / 6520) loss: 0.896535\n",
      "(Iteration 2661 / 6520) loss: 0.883819\n",
      "(Iteration 2671 / 6520) loss: 1.131023\n",
      "(Iteration 2681 / 6520) loss: 0.927730\n",
      "(Iteration 2691 / 6520) loss: 1.128130\n",
      "(Iteration 2701 / 6520) loss: 1.011820\n",
      "(Iteration 2711 / 6520) loss: 1.059095\n",
      "(Iteration 2721 / 6520) loss: 1.138962\n",
      "(Iteration 2731 / 6520) loss: 1.295385\n",
      "(Iteration 2741 / 6520) loss: 1.031860\n",
      "(Iteration 2751 / 6520) loss: 0.965646\n",
      "(Iteration 2761 / 6520) loss: 0.959886\n",
      "(Iteration 2771 / 6520) loss: 1.335873\n",
      "(Iteration 2781 / 6520) loss: 1.151277\n",
      "(Iteration 2791 / 6520) loss: 1.062156\n",
      "(Iteration 2801 / 6520) loss: 0.980003\n",
      "(Iteration 2811 / 6520) loss: 1.030267\n",
      "(Iteration 2821 / 6520) loss: 1.080555\n",
      "(Iteration 2831 / 6520) loss: 1.056709\n",
      "(Iteration 2841 / 6520) loss: 1.060762\n",
      "(Iteration 2851 / 6520) loss: 1.073846\n",
      "(Iteration 2861 / 6520) loss: 0.943627\n",
      "(Iteration 2871 / 6520) loss: 0.947680\n",
      "(Iteration 2881 / 6520) loss: 1.001860\n",
      "(Iteration 2891 / 6520) loss: 1.033509\n",
      "(Iteration 2901 / 6520) loss: 1.025485\n",
      "(Iteration 2911 / 6520) loss: 0.972231\n",
      "(Iteration 2921 / 6520) loss: 1.069008\n",
      "(Iteration 2931 / 6520) loss: 0.829357\n",
      "(Epoch 9 / 20) train acc: 0.624000; val_acc: 0.502000\n",
      "(Iteration 2941 / 6520) loss: 1.139206\n",
      "(Iteration 2951 / 6520) loss: 1.038282\n",
      "(Iteration 2961 / 6520) loss: 1.016807\n",
      "(Iteration 2971 / 6520) loss: 1.051758\n",
      "(Iteration 2981 / 6520) loss: 0.965398\n",
      "(Iteration 2991 / 6520) loss: 1.048285\n",
      "(Iteration 3001 / 6520) loss: 1.053194\n",
      "(Iteration 3011 / 6520) loss: 1.091368\n",
      "(Iteration 3021 / 6520) loss: 1.075591\n",
      "(Iteration 3031 / 6520) loss: 1.056894\n",
      "(Iteration 3041 / 6520) loss: 0.965841\n",
      "(Iteration 3051 / 6520) loss: 1.024483\n",
      "(Iteration 3061 / 6520) loss: 1.260492\n",
      "(Iteration 3071 / 6520) loss: 1.036226\n",
      "(Iteration 3081 / 6520) loss: 1.257733\n",
      "(Iteration 3091 / 6520) loss: 1.051638\n",
      "(Iteration 3101 / 6520) loss: 0.954745\n",
      "(Iteration 3111 / 6520) loss: 0.936676\n",
      "(Iteration 3121 / 6520) loss: 0.930737\n",
      "(Iteration 3131 / 6520) loss: 0.984691\n",
      "(Iteration 3141 / 6520) loss: 0.932309\n",
      "(Iteration 3151 / 6520) loss: 1.002593\n",
      "(Iteration 3161 / 6520) loss: 1.092752\n",
      "(Iteration 3171 / 6520) loss: 0.966040\n",
      "(Iteration 3181 / 6520) loss: 0.910449\n"
     ]
    }
   ],
   "source": [
    "best_model = None\n",
    "################################################################################\n",
    "# TODO: Train the best FullyConnectedNet that you can on CIFAR-10. You might   #\n",
    "# batch normalization and dropout useful. Store your best model in the         #\n",
    "# best_model variable.                                                         #\n",
    "################################################################################\n",
    "model = FullyConnectedNet([512, 256, 256, 256, 256], weight_scale=5e-2)\n",
    "\n",
    "solver = Solver(model, data,\n",
    "              num_epochs=20, batch_size=150,\n",
    "              update_rule='adam',\n",
    "              optim_config={\n",
    "                'learning_rate': learning_rates['adam']\n",
    "              },\n",
    "              verbose=True)\n",
    "solvers[update_rule] = solver\n",
    "solver.train()\n",
    "################################################################################\n",
    "#                              END OF YOUR CODE                                #\n",
    "################################################################################"
   ]
  },
  {
   "cell_type": "markdown",
   "metadata": {},
   "source": [
    "# Test your model\n",
    "Run your best model on the validation and test sets. You should achieve above 50% accuracy on the validation set."
   ]
  },
  {
   "cell_type": "code",
   "execution_count": null,
   "metadata": {
    "collapsed": true
   },
   "outputs": [],
   "source": [
    "y_test_pred = np.argmax(best_model.loss(data['X_test']), axis=1)\n",
    "y_val_pred = np.argmax(best_model.loss(data['X_val']), axis=1)\n",
    "print('Validation set accuracy: ', (y_val_pred == data['y_val']).mean())\n",
    "print('Test set accuracy: ', (y_test_pred == data['y_test']).mean())"
   ]
  }
 ],
 "metadata": {
  "kernelspec": {
   "display_name": "Python 3",
   "language": "python",
   "name": "python3"
  },
  "language_info": {
   "codemirror_mode": {
    "name": "ipython",
    "version": 3
   },
   "file_extension": ".py",
   "mimetype": "text/x-python",
   "name": "python",
   "nbconvert_exporter": "python",
   "pygments_lexer": "ipython3",
   "version": "3.5.2"
  }
 },
 "nbformat": 4,
 "nbformat_minor": 1
}
