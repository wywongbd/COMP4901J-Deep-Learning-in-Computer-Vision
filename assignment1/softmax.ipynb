{
 "cells": [
  {
   "cell_type": "markdown",
   "metadata": {},
   "source": [
    "# Softmax exercise\n",
    "\n",
    "*Complete and hand in this completed worksheet (including its outputs and any supporting code outside of the worksheet) with your assignment submission. For more details see the [assignments page](http://vision.stanford.edu/teaching/cs231n/assignments.html) on the course website.*\n",
    "\n",
    "This exercise is analogous to the SVM exercise. You will:\n",
    "\n",
    "- implement a fully-vectorized **loss function** for the Softmax classifier\n",
    "- implement the fully-vectorized expression for its **analytic gradient**\n",
    "- **check your implementation** with numerical gradient\n",
    "- use a validation set to **tune the learning rate and regularization** strength\n",
    "- **optimize** the loss function with **SGD**\n",
    "- **visualize** the final learned weights\n"
   ]
  },
  {
   "cell_type": "code",
   "execution_count": 1,
   "metadata": {
    "collapsed": false
   },
   "outputs": [],
   "source": [
    "import random\n",
    "import numpy as np\n",
    "from cs231n.data_utils import load_CIFAR10\n",
    "import matplotlib.pyplot as plt\n",
    "\n",
    "from __future__ import print_function\n",
    "\n",
    "%matplotlib inline\n",
    "plt.rcParams['figure.figsize'] = (10.0, 8.0) # set default size of plots\n",
    "plt.rcParams['image.interpolation'] = 'nearest'\n",
    "plt.rcParams['image.cmap'] = 'gray'\n",
    "\n",
    "# for auto-reloading extenrnal modules\n",
    "# see http://stackoverflow.com/questions/1907993/autoreload-of-modules-in-ipython\n",
    "%load_ext autoreload\n",
    "%autoreload 2"
   ]
  },
  {
   "cell_type": "code",
   "execution_count": 2,
   "metadata": {
    "collapsed": false
   },
   "outputs": [
    {
     "name": "stdout",
     "output_type": "stream",
     "text": [
      "Train data shape:  (49000, 3073)\n",
      "Train labels shape:  (49000,)\n",
      "Validation data shape:  (1000, 3073)\n",
      "Validation labels shape:  (1000,)\n",
      "Test data shape:  (1000, 3073)\n",
      "Test labels shape:  (1000,)\n",
      "dev data shape:  (500, 3073)\n",
      "dev labels shape:  (500,)\n"
     ]
    }
   ],
   "source": [
    "def get_CIFAR10_data(num_training=49000, num_validation=1000, num_test=1000, num_dev=500):\n",
    "    \"\"\"\n",
    "    Load the CIFAR-10 dataset from disk and perform preprocessing to prepare\n",
    "    it for the linear classifier. These are the same steps as we used for the\n",
    "    SVM, but condensed to a single function.  \n",
    "    \"\"\"\n",
    "    # Load the raw CIFAR-10 data\n",
    "    cifar10_dir = 'cs231n/datasets/cifar-10-batches-py'\n",
    "    X_train, y_train, X_test, y_test = load_CIFAR10(cifar10_dir)\n",
    "    \n",
    "    # subsample the data\n",
    "    mask = list(range(num_training, num_training + num_validation))\n",
    "    X_val = X_train[mask]\n",
    "    y_val = y_train[mask]\n",
    "    mask = list(range(num_training))\n",
    "    X_train = X_train[mask]\n",
    "    y_train = y_train[mask]\n",
    "    mask = list(range(num_test))\n",
    "    X_test = X_test[mask]\n",
    "    y_test = y_test[mask]\n",
    "    mask = np.random.choice(num_training, num_dev, replace=False)\n",
    "    X_dev = X_train[mask]\n",
    "    y_dev = y_train[mask]\n",
    "    \n",
    "    # Preprocessing: reshape the image data into rows\n",
    "    X_train = np.reshape(X_train, (X_train.shape[0], -1))\n",
    "    X_val = np.reshape(X_val, (X_val.shape[0], -1))\n",
    "    X_test = np.reshape(X_test, (X_test.shape[0], -1))\n",
    "    X_dev = np.reshape(X_dev, (X_dev.shape[0], -1))\n",
    "    \n",
    "    # Normalize the data: subtract the mean image\n",
    "    mean_image = np.mean(X_train, axis = 0)\n",
    "    X_train -= mean_image\n",
    "    X_val -= mean_image\n",
    "    X_test -= mean_image\n",
    "    X_dev -= mean_image\n",
    "    \n",
    "    # add bias dimension and transform into columns\n",
    "    X_train = np.hstack([X_train, np.ones((X_train.shape[0], 1))])\n",
    "    X_val = np.hstack([X_val, np.ones((X_val.shape[0], 1))])\n",
    "    X_test = np.hstack([X_test, np.ones((X_test.shape[0], 1))])\n",
    "    X_dev = np.hstack([X_dev, np.ones((X_dev.shape[0], 1))])\n",
    "    \n",
    "    return X_train, y_train, X_val, y_val, X_test, y_test, X_dev, y_dev\n",
    "\n",
    "\n",
    "# Invoke the above function to get our data.\n",
    "X_train, y_train, X_val, y_val, X_test, y_test, X_dev, y_dev = get_CIFAR10_data()\n",
    "print('Train data shape: ', X_train.shape)\n",
    "print('Train labels shape: ', y_train.shape)\n",
    "print('Validation data shape: ', X_val.shape)\n",
    "print('Validation labels shape: ', y_val.shape)\n",
    "print('Test data shape: ', X_test.shape)\n",
    "print('Test labels shape: ', y_test.shape)\n",
    "print('dev data shape: ', X_dev.shape)\n",
    "print('dev labels shape: ', y_dev.shape)"
   ]
  },
  {
   "cell_type": "markdown",
   "metadata": {},
   "source": [
    "## Softmax Classifier\n",
    "\n",
    "Your code for this section will all be written inside **cs231n/classifiers/softmax.py**. \n"
   ]
  },
  {
   "cell_type": "code",
   "execution_count": 9,
   "metadata": {
    "collapsed": false
   },
   "outputs": [
    {
     "name": "stdout",
     "output_type": "stream",
     "text": [
      "loss: 2.349048\n",
      "sanity check: 2.302585\n"
     ]
    }
   ],
   "source": [
    "# First implement the naive softmax loss function with nested loops.\n",
    "# Open the file cs231n/classifiers/softmax.py and implement the\n",
    "# softmax_loss_naive function.\n",
    "\n",
    "from cs231n.classifiers.softmax import softmax_loss_naive\n",
    "import time\n",
    "\n",
    "# Generate a random softmax weight matrix and use it to compute the loss.\n",
    "W = np.random.randn(3073, 10) * 0.0001\n",
    "loss, grad = softmax_loss_naive(W, X_dev, y_dev, 0.0)\n",
    "\n",
    "# As a rough sanity check, our loss should be something close to -log(0.1).\n",
    "print('loss: %f' % loss)\n",
    "print('sanity check: %f' % (-np.log(0.1)))"
   ]
  },
  {
   "cell_type": "markdown",
   "metadata": {},
   "source": [
    "## Inline Question 1:\n",
    "Why do we expect our loss to be close to -log(0.1)? Explain briefly.**\n",
    "\n",
    "**Your answer:** *Fill this in*\n",
    "\n",
    "Our softmax classifier is not trained. Randomly choossing the weights used in the softmwax classifier is basically equivalent to randomly guessing the class of an input image. Since there is a total of 10 classes, by the probabilistic cross-entropy loss interpretation of Softmax, the expected average probability of each class to be ~0.1. This results to a expected loss of -log(0.1).\n"
   ]
  },
  {
   "cell_type": "code",
   "execution_count": 10,
   "metadata": {
    "collapsed": false
   },
   "outputs": [
    {
     "name": "stdout",
     "output_type": "stream",
     "text": [
      "numerical: -0.876945 analytic: -0.876945, relative error: 9.987219e-11\n",
      "numerical: 1.746754 analytic: 1.746754, relative error: 2.229595e-08\n",
      "numerical: -2.008569 analytic: -2.008569, relative error: 2.858552e-08\n",
      "numerical: -3.007611 analytic: -3.007611, relative error: 1.372776e-08\n",
      "numerical: -3.682549 analytic: -3.682549, relative error: 1.086234e-08\n",
      "numerical: -0.401752 analytic: -0.401752, relative error: 3.961987e-08\n",
      "numerical: 2.538105 analytic: 2.538105, relative error: 1.520530e-08\n",
      "numerical: -0.304057 analytic: -0.304057, relative error: 1.932868e-08\n",
      "numerical: 0.473986 analytic: 0.473986, relative error: 2.058691e-08\n",
      "numerical: -2.812468 analytic: -2.812467, relative error: 1.264105e-08\n",
      "numerical: 1.052236 analytic: 1.052236, relative error: 3.001668e-08\n",
      "numerical: -2.028598 analytic: -2.028598, relative error: 1.414493e-09\n",
      "numerical: 0.392583 analytic: 0.392583, relative error: 1.469072e-08\n",
      "numerical: -3.084325 analytic: -3.084325, relative error: 1.513429e-08\n",
      "numerical: 0.453917 analytic: 0.453917, relative error: 2.733213e-08\n",
      "numerical: -2.218868 analytic: -2.218868, relative error: 4.916670e-10\n",
      "numerical: 0.791578 analytic: 0.791578, relative error: 4.081426e-08\n",
      "numerical: 0.853707 analytic: 0.853707, relative error: 1.272018e-08\n",
      "numerical: -0.465275 analytic: -0.465275, relative error: 3.077580e-08\n",
      "numerical: -3.073262 analytic: -3.073262, relative error: 1.191234e-08\n"
     ]
    }
   ],
   "source": [
    "# Complete the implementation of softmax_loss_naive and implement a (naive)\n",
    "# version of the gradient that uses nested loops.\n",
    "loss, grad = softmax_loss_naive(W, X_dev, y_dev, 0.0)\n",
    "\n",
    "# As we did for the SVM, use numeric gradient checking as a debugging tool.\n",
    "# The numeric gradient should be close to the analytic gradient.\n",
    "from cs231n.gradient_check import grad_check_sparse\n",
    "f = lambda w: softmax_loss_naive(w, X_dev, y_dev, 0.0)[0]\n",
    "grad_numerical = grad_check_sparse(f, W, grad, 10)\n",
    "\n",
    "# similar to SVM case, do another gradient check with regularization\n",
    "loss, grad = softmax_loss_naive(W, X_dev, y_dev, 5e1)\n",
    "f = lambda w: softmax_loss_naive(w, X_dev, y_dev, 5e1)[0]\n",
    "grad_numerical = grad_check_sparse(f, W, grad, 10)"
   ]
  },
  {
   "cell_type": "code",
   "execution_count": 6,
   "metadata": {
    "collapsed": false
   },
   "outputs": [
    {
     "name": "stdout",
     "output_type": "stream",
     "text": [
      "naive loss: 2.335804e+00 computed in 0.083722s\n",
      "vectorized loss: 2.335804e+00 computed in 0.006015s\n",
      "Loss difference: 0.000000\n",
      "Gradient difference: 0.000000\n"
     ]
    }
   ],
   "source": [
    "# Now that we have a naive implementation of the softmax loss function and its gradient,\n",
    "# implement a vectorized version in softmax_loss_vectorized.\n",
    "# The two versions should compute the same results, but the vectorized version should be\n",
    "# much faster.\n",
    "tic = time.time()\n",
    "loss_naive, grad_naive = softmax_loss_naive(W, X_dev, y_dev, 0.000005)\n",
    "toc = time.time()\n",
    "print('naive loss: %e computed in %fs' % (loss_naive, toc - tic))\n",
    "\n",
    "from cs231n.classifiers.softmax import softmax_loss_vectorized\n",
    "tic = time.time()\n",
    "loss_vectorized, grad_vectorized = softmax_loss_vectorized(W, X_dev, y_dev, 0.000005)\n",
    "toc = time.time()\n",
    "print('vectorized loss: %e computed in %fs' % (loss_vectorized, toc - tic))\n",
    "\n",
    "# As we did for the SVM, we use the Frobenius norm to compare the two versions\n",
    "# of the gradient.\n",
    "grad_difference = np.linalg.norm(grad_naive - grad_vectorized, ord='fro')\n",
    "print('Loss difference: %f' % np.abs(loss_naive - loss_vectorized))\n",
    "print('Gradient difference: %f' % grad_difference)"
   ]
  },
  {
   "cell_type": "code",
   "execution_count": 21,
   "metadata": {
    "collapsed": false
   },
   "outputs": [
    {
     "name": "stdout",
     "output_type": "stream",
     "text": [
      "iteration 0 / 3000: loss 389.283918\n",
      "iteration 100 / 3000: loss 235.865977\n",
      "iteration 200 / 3000: loss 143.492125\n",
      "iteration 300 / 3000: loss 87.472284\n",
      "iteration 400 / 3000: loss 53.720687\n",
      "iteration 500 / 3000: loss 33.211635\n",
      "iteration 600 / 3000: loss 20.931330\n",
      "iteration 700 / 3000: loss 13.430206\n",
      "iteration 800 / 3000: loss 9.001077\n",
      "iteration 900 / 3000: loss 6.251554\n",
      "iteration 1000 / 3000: loss 4.567931\n",
      "iteration 1100 / 3000: loss 3.589397\n",
      "iteration 1200 / 3000: loss 3.015868\n",
      "iteration 1300 / 3000: loss 2.556310\n",
      "iteration 1400 / 3000: loss 2.311457\n",
      "iteration 1500 / 3000: loss 2.226225\n",
      "iteration 1600 / 3000: loss 2.110533\n",
      "iteration 1700 / 3000: loss 2.188381\n",
      "iteration 1800 / 3000: loss 2.020213\n",
      "iteration 1900 / 3000: loss 1.968384\n",
      "iteration 2000 / 3000: loss 1.998477\n",
      "iteration 2100 / 3000: loss 2.045448\n",
      "iteration 2200 / 3000: loss 2.023031\n",
      "iteration 2300 / 3000: loss 2.049222\n",
      "iteration 2400 / 3000: loss 2.031604\n",
      "iteration 2500 / 3000: loss 2.077600\n",
      "iteration 2600 / 3000: loss 1.998378\n",
      "iteration 2700 / 3000: loss 2.060535\n",
      "iteration 2800 / 3000: loss 1.997993\n",
      "iteration 2900 / 3000: loss 2.008951\n",
      "iteration 0 / 3000: loss 773.551753\n",
      "iteration 100 / 3000: loss 284.120614\n",
      "iteration 200 / 3000: loss 105.193149\n",
      "iteration 300 / 3000: loss 39.843680\n",
      "iteration 400 / 3000: loss 15.987815\n",
      "iteration 500 / 3000: loss 7.179035\n",
      "iteration 600 / 3000: loss 3.978389\n",
      "iteration 700 / 3000: loss 2.731803\n",
      "iteration 800 / 3000: loss 2.362766\n",
      "iteration 900 / 3000: loss 2.184253\n",
      "iteration 1000 / 3000: loss 2.087853\n",
      "iteration 1100 / 3000: loss 2.133908\n",
      "iteration 1200 / 3000: loss 2.046177\n",
      "iteration 1300 / 3000: loss 2.065380\n",
      "iteration 1400 / 3000: loss 2.076238\n",
      "iteration 1500 / 3000: loss 2.127976\n",
      "iteration 1600 / 3000: loss 2.062799\n",
      "iteration 1700 / 3000: loss 2.087480\n",
      "iteration 1800 / 3000: loss 2.076808\n",
      "iteration 1900 / 3000: loss 2.075059\n",
      "iteration 2000 / 3000: loss 2.143011\n",
      "iteration 2100 / 3000: loss 2.084448\n",
      "iteration 2200 / 3000: loss 2.062482\n",
      "iteration 2300 / 3000: loss 2.090695\n",
      "iteration 2400 / 3000: loss 2.047083\n",
      "iteration 2500 / 3000: loss 2.096096\n",
      "iteration 2600 / 3000: loss 2.131023\n",
      "iteration 2700 / 3000: loss 2.063916\n",
      "iteration 2800 / 3000: loss 2.105741\n",
      "iteration 2900 / 3000: loss 2.106458\n",
      "iteration 0 / 3000: loss 386.257589\n",
      "iteration 100 / 3000: loss 32.473335\n",
      "iteration 200 / 3000: loss 4.483064\n",
      "iteration 300 / 3000: loss 2.234579\n",
      "iteration 400 / 3000: loss 2.068285\n",
      "iteration 500 / 3000: loss 2.025460\n",
      "iteration 600 / 3000: loss 2.057953\n",
      "iteration 700 / 3000: loss 2.079043\n",
      "iteration 800 / 3000: loss 1.991823\n",
      "iteration 900 / 3000: loss 2.001149\n",
      "iteration 1000 / 3000: loss 2.060047\n",
      "iteration 1100 / 3000: loss 1.981712\n",
      "iteration 1200 / 3000: loss 2.028031\n",
      "iteration 1300 / 3000: loss 2.058516\n",
      "iteration 1400 / 3000: loss 2.115542\n",
      "iteration 1500 / 3000: loss 2.069352\n",
      "iteration 1600 / 3000: loss 2.074754\n",
      "iteration 1700 / 3000: loss 2.001735\n",
      "iteration 1800 / 3000: loss 2.074586\n",
      "iteration 1900 / 3000: loss 2.007819\n",
      "iteration 2000 / 3000: loss 2.027458\n",
      "iteration 2100 / 3000: loss 2.010961\n",
      "iteration 2200 / 3000: loss 1.995164\n",
      "iteration 2300 / 3000: loss 2.049722\n",
      "iteration 2400 / 3000: loss 2.070002\n",
      "iteration 2500 / 3000: loss 2.028687\n",
      "iteration 2600 / 3000: loss 2.022420\n",
      "iteration 2700 / 3000: loss 2.015860\n",
      "iteration 2800 / 3000: loss 2.040065\n",
      "iteration 2900 / 3000: loss 2.062206\n",
      "iteration 0 / 3000: loss 768.156467\n",
      "iteration 100 / 3000: loss 6.852853\n",
      "iteration 200 / 3000: loss 2.130098\n",
      "iteration 300 / 3000: loss 2.084057\n",
      "iteration 400 / 3000: loss 2.112051\n",
      "iteration 500 / 3000: loss 2.034288\n",
      "iteration 600 / 3000: loss 2.026505\n",
      "iteration 700 / 3000: loss 2.054806\n",
      "iteration 800 / 3000: loss 2.138325\n",
      "iteration 900 / 3000: loss 2.037055\n",
      "iteration 1000 / 3000: loss 2.113175\n",
      "iteration 1100 / 3000: loss 2.092910\n",
      "iteration 1200 / 3000: loss 2.078037\n",
      "iteration 1300 / 3000: loss 2.092884\n",
      "iteration 1400 / 3000: loss 2.058697\n",
      "iteration 1500 / 3000: loss 2.102925\n",
      "iteration 1600 / 3000: loss 2.074077\n",
      "iteration 1700 / 3000: loss 2.094807\n",
      "iteration 1800 / 3000: loss 2.135941\n",
      "iteration 1900 / 3000: loss 2.054929\n",
      "iteration 2000 / 3000: loss 2.164744\n",
      "iteration 2100 / 3000: loss 2.071673\n",
      "iteration 2200 / 3000: loss 2.046585\n",
      "iteration 2300 / 3000: loss 2.060244\n",
      "iteration 2400 / 3000: loss 2.106451\n",
      "iteration 2500 / 3000: loss 2.064526\n",
      "iteration 2600 / 3000: loss 2.063538\n",
      "iteration 2700 / 3000: loss 2.107584\n",
      "iteration 2800 / 3000: loss 2.096158\n",
      "iteration 2900 / 3000: loss 2.099352\n",
      "lr 1.000000e-07 reg 2.500000e+04 train accuracy: 0.351755 val accuracy: 0.369000\n",
      "lr 1.000000e-07 reg 5.000000e+04 train accuracy: 0.327122 val accuracy: 0.339000\n",
      "lr 5.000000e-07 reg 2.500000e+04 train accuracy: 0.348082 val accuracy: 0.362000\n",
      "lr 5.000000e-07 reg 5.000000e+04 train accuracy: 0.328061 val accuracy: 0.342000\n",
      "best validation accuracy achieved during cross-validation: 0.369000\n"
     ]
    }
   ],
   "source": [
    "# Use the validation set to tune hyperparameters (regularization strength and\n",
    "# learning rate). You should experiment with different ranges for the learning\n",
    "# rates and regularization strengths; if you are careful you should be able to\n",
    "# get a classification accuracy of over 0.35 on the validation set.\n",
    "from cs231n.classifiers import Softmax\n",
    "results = {}\n",
    "best_val = -1\n",
    "best_softmax = None\n",
    "learning_rates = [1e-7, 5e-7]\n",
    "regularization_strengths = [2.5e4, 5e4]\n",
    "\n",
    "################################################################################\n",
    "# TODO:                                                                        #\n",
    "# Use the validation set to set the learning rate and regularization strength. #\n",
    "# This should be identical to the validation that you did for the SVM; save    #\n",
    "# the best trained softmax classifer in best_softmax.                          #\n",
    "################################################################################\n",
    "for lr in learning_rates:\n",
    "    for regularize in regularization_strengths:\n",
    "        softmax = Softmax()\n",
    "        softmax.train(X_train, y_train, learning_rate= lr, reg=regularize,\n",
    "                      num_iters = 3000, verbose=True)\n",
    "        \n",
    "        y_train_pred = softmax.predict(X_train)\n",
    "        training_accuracy = np.mean(y_train_pred == y_train)\n",
    "        y_val_pred = softmax.predict(X_val)\n",
    "        validation_accuracy = np.mean(y_val == y_val_pred)\n",
    "        \n",
    "        results[(lr, regularize)] = (training_accuracy, validation_accuracy)\n",
    "                              \n",
    "        if validation_accuracy > best_val:\n",
    "            best_val = validation_accuracy\n",
    "            best_softmax = softmax\n",
    "################################################################################\n",
    "#                              END OF YOUR CODE                                #\n",
    "################################################################################\n",
    "    \n",
    "# Print out results.\n",
    "for lr, reg in sorted(results):\n",
    "    train_accuracy, val_accuracy = results[(lr, reg)]\n",
    "    print('lr %e reg %e train accuracy: %f val accuracy: %f' % (\n",
    "                lr, reg, train_accuracy, val_accuracy))\n",
    "    \n",
    "print('best validation accuracy achieved during cross-validation: %f' % best_val)"
   ]
  },
  {
   "cell_type": "code",
   "execution_count": 22,
   "metadata": {
    "collapsed": false
   },
   "outputs": [
    {
     "name": "stdout",
     "output_type": "stream",
     "text": [
      "softmax on raw pixels final test set accuracy: 0.364000\n"
     ]
    }
   ],
   "source": [
    "# evaluate on test set\n",
    "# Evaluate the best softmax on test set\n",
    "y_test_pred = best_softmax.predict(X_test)\n",
    "test_accuracy = np.mean(y_test == y_test_pred)\n",
    "print('softmax on raw pixels final test set accuracy: %f' % (test_accuracy, ))"
   ]
  },
  {
   "cell_type": "code",
   "execution_count": 23,
   "metadata": {
    "collapsed": false
   },
   "outputs": [
    {
     "data": {
      "image/png": "[encoded data removed]",
      "text/plain": [
       "<matplotlib.figure.Figure at 0x1b77ece6518>"
      ]
     },
     "metadata": {},
     "output_type": "display_data"
    }
   ],
   "source": [
    "# Visualize the learned weights for each class\n",
    "w = best_softmax.W[:-1,:] # strip out the bias\n",
    "w = w.reshape(32, 32, 3, 10)\n",
    "\n",
    "w_min, w_max = np.min(w), np.max(w)\n",
    "\n",
    "classes = ['plane', 'car', 'bird', 'cat', 'deer', 'dog', 'frog', 'horse', 'ship', 'truck']\n",
    "for i in range(10):\n",
    "    plt.subplot(2, 5, i + 1)\n",
    "    \n",
    "    # Rescale the weights to be between 0 and 255\n",
    "    wimg = 255.0 * (w[:, :, :, i].squeeze() - w_min) / (w_max - w_min)\n",
    "    plt.imshow(wimg.astype('uint8'))\n",
    "    plt.axis('off')\n",
    "    plt.title(classes[i])"
   ]
  },
  {
   "cell_type": "code",
   "execution_count": null,
   "metadata": {
    "collapsed": true
   },
   "outputs": [],
   "source": []
  }
 ],
 "metadata": {
  "kernelspec": {
   "display_name": "Python 3",
   "language": "python",
   "name": "python3"
  },
  "language_info": {
   "codemirror_mode": {
    "name": "ipython",
    "version": 3
   },
   "file_extension": ".py",
   "mimetype": "text/x-python",
   "name": "python",
   "nbconvert_exporter": "python",
   "pygments_lexer": "ipython3",
   "version": "3.6.0"
  }
 },
 "nbformat": 4,
 "nbformat_minor": 0
}
